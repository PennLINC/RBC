{
 "cells": [
  {
   "cell_type": "markdown",
   "metadata": {},
   "source": [
    "Prep"
   ]
  },
  {
   "cell_type": "code",
   "execution_count": null,
   "metadata": {},
   "outputs": [],
   "source": [
    "import flywheel\n",
    "import re\n",
    "import sys\n",
    "import os\n",
    "import glob\n",
    "import shutil\n",
    "import subprocess\n",
    "import docker\n",
    "import pandas as pd\n",
    "from tqdm import tqdm\n",
    "from fw_heudiconv.cli import export"
   ]
  },
  {
   "cell_type": "markdown",
   "metadata": {},
   "source": [
    "Initialise flywheel data:"
   ]
  },
  {
   "cell_type": "code",
   "execution_count": null,
   "metadata": {},
   "outputs": [],
   "source": [
    "client = flywheel.Client()\n",
    "\n",
    "RBC_proj = client.projects.find_first('label=\"ReproBrainChart\"')\n",
    "\n",
    "RBC_subjects = RBC_proj.subjects()\n",
    "\n",
    "PNC_CS_proj = client.projects.find_first('label=\"PNC_CS_810336\"')\n",
    "PNC_LG_proj = client.projects.find_first('label=\"PNC_LG_810336\"')\n",
    "\n",
    "PNC_CS_subjects = PNC_CS_proj.subjects()\n",
    "PNC_LG_subjects = PNC_LG_proj.subjects()\n",
    "\n",
    "# get the penn_ids list\n",
    "penn_ids = pd.read_csv('/storage/ttapera/RBC/data/bblid_renamed.csv', dtype = {'bblid': str, 'reid': str})\n",
    "\n",
    "penn_ids['sub_id'] = 'sub-' + penn_ids['reid']"
   ]
  },
  {
   "cell_type": "code",
   "execution_count": null,
   "metadata": {},
   "outputs": [],
   "source": [
    "# function to remove a subject from the RBC project\n",
    "def remove_current_rbc_subject(row, RBC_subjects=RBC_subjects):\n",
    "\n",
    "    target = [x for x in RBC_subjects if x.label == row['sub_id']]\n",
    "    if len(target) == 1:\n",
    "        print('found subject to remove: ', list(row), target[0].id)\n",
    "        print('client.delete_subject(target[0].id)')\n",
    "        return True\n",
    "    else:\n",
    "        return False\n"
   ]
  },
  {
   "cell_type": "code",
   "execution_count": null,
   "metadata": {},
   "outputs": [],
   "source": [
    "penn_ids['process'] = penn_ids.apply(remove_current_rbc_subject, axis = 1)"
   ]
  },
  {
   "cell_type": "code",
   "execution_count": null,
   "metadata": {},
   "outputs": [],
   "source": [
    "penn_ids.to_csv('/storage/ttapera/RBC/data/bblids_2.csv', index=False)"
   ]
  },
  {
   "cell_type": "code",
   "execution_count": null,
   "metadata": {},
   "outputs": [],
   "source": [
    "sessions = None\n",
    "#downloads = export.gather_bids(client, PNC_CS_proj.label, '80010', sessions)"
   ]
  },
  {
   "cell_type": "code",
   "execution_count": null,
   "metadata": {
    "scrolled": true
   },
   "outputs": [],
   "source": [
    "sessions = None\n",
    "\n",
    "for index, row in tqdm(penn_ids.iterrows(), total=penn_ids.shape[0]):\n",
    "    \n",
    "    print(\"Processing...\")\n",
    "    should_replace = False\n",
    "    # first remove the existing data on RBC\n",
    "    should_replace = remove_current_rbc_subject(row, RBC_subjects)\n",
    "    \n",
    "    if should_replace:\n",
    "        # download the data from PNC\n",
    "        print(\"Gathering PNC CS BIDS...\")\n",
    "        pnc1_data = export.gather_bids(client, PNC_CS_proj.label, row['bblid'], sessions)        \n",
    "        print(\"\\nDownloading BIDS...\\n\")\n",
    "        export.download_bids(\n",
    "            client, pnc1_data, \n",
    "            '/storage/ttapera/RBC/data/', \n",
    "            folders_to_download = ['anat', 'func', 'fmap'],\n",
    "            dry_run=False,\n",
    "            name='PNC1')\n",
    "\n",
    "        print(\"Gathering PNC LG BIDS...\")\n",
    "        try:\n",
    "            pnc2_data = export.gather_bids(client, PNC_LG_proj.label, row['bblid'], sessions)\n",
    "\n",
    "            export.download_bids(\n",
    "                client, pnc2_data, \n",
    "                '/storage/ttapera/RBC/data/', \n",
    "                folders_to_download = ['anat', 'func', 'fmap'],\n",
    "                dry_run=False,\n",
    "                name='PNC2')\n",
    "        except:\n",
    "            print(\"no second session!\")\n",
    "        \n",
    "        # merge any and all data\n",
    "        print(\"n\\Merging\\n\")\n",
    "        os.system(\"cp -r -R /storage/ttapera/RBC/data/PNC*/* /storage/ttapera/RBC/data/upload/\")\n",
    "        \n",
    "        # rename the files:\n",
    "        print(\"\\nRenaming\\n\")\n",
    "        for root, subdirs, files in os.walk(\"/storage/ttapera/RBC/data/upload/\"):\n",
    "\n",
    "            for f in files:\n",
    "                if row['bblid'] in f:\n",
    "                    print(\"renaming file \", f)\n",
    "                    new_name = f.replace(row['bblid'], row['reid'])\n",
    "                    os.rename(root + \"/\" + f, root + \"/\" + new_name)\n",
    "\n",
    "        # rename the subject-level directory\n",
    "        old_name = \"/storage/ttapera/RBC/data/upload/sub-\" + row['bblid']\n",
    "        new_name = old_name.replace(row['bblid'], row['reid'])\n",
    "        shutil.move(old_name, new_name)        \n",
    "        os.system(\"rm -rf /storage/ttapera/RBC/data/upload/sub*/sub*\")\n",
    "        \n",
    "        # apply defacing here\n",
    "        print(\"\\nDefacing\\n\")\n",
    "        for root, subdirs, files in os.walk(\"/storage/ttapera/RBC/data/upload/\"):\n",
    "\n",
    "            for f in files:\n",
    "                if \".nii\" in f:\n",
    "                    print(\"defacing \" + f)\n",
    "                    cmd = (\"docker run -ti --rm \"\n",
    "                           \"-v {}:/data \"\n",
    "                           \"pennbbl/mrideface \"\n",
    "                           \"/data/{} \"\n",
    "                           \"/opt/mrideface/talairach_mixed_with_skull.gca \"\n",
    "                           \"/opt/mrideface/face.gca \"\n",
    "                           \"/data/{} \".format(root, f, f))\n",
    "                    \n",
    "                    print(cmd)\n",
    "                    output = subprocess.check_output(cmd)\n",
    "        \n",
    "        # upload here\n",
    "        print(\"\\nUploading\\n\")\n",
    "        \n",
    "        # remove from filesystem here\n",
    "        print(\"\\nClearing local data\\n\")\n",
    "        os.system(\"rm -rf /storage/ttapera/RBC/data/upload/*\")\n",
    "        os.system(\"rm -rf /storage/ttapera/RBC/data/PNC*\")\n",
    "        os.system(\"rm -rf /storage/ttapera/RBC/data/sub*\")"
   ]
  },
  {
   "cell_type": "code",
   "execution_count": null,
   "metadata": {},
   "outputs": [],
   "source": []
  }
 ],
 "metadata": {
  "kernelspec": {
   "display_name": "Python 3",
   "language": "python",
   "name": "python3"
  },
  "language_info": {
   "codemirror_mode": {
    "name": "ipython",
    "version": 3
   },
   "file_extension": ".py",
   "mimetype": "text/x-python",
   "name": "python",
   "nbconvert_exporter": "python",
   "pygments_lexer": "ipython3",
   "version": "3.7.5"
  }
 },
 "nbformat": 4,
 "nbformat_minor": 2
}
