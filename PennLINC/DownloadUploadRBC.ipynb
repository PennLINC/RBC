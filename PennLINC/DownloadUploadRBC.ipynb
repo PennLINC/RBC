{
 "cells": [
  {
   "cell_type": "markdown",
   "metadata": {},
   "source": [
    "Prep"
   ]
  },
  {
   "cell_type": "code",
   "execution_count": 1,
   "metadata": {},
   "outputs": [
    {
     "name": "stderr",
     "output_type": "stream",
     "text": [
      "/storage/ttapera/fw-heudiconv/fw_heudiconv/backend_funcs/query.py:4: UserWarning: The DICOM readers are highly experimental, unstable, and only work for Siemens time-series at the moment\n",
      "Please use with caution.  We would be grateful for your help in improving them\n",
      "  from nibabel.nicom.dicomwrappers import wrapper_from_data\n"
     ]
    },
    {
     "name": "stdout",
     "output_type": "stream",
     "text": [
      "200526-17:44:05,495 nipype.utils INFO:\n",
      "\t Running nipype version 1.4.0 (latest: 1.4.2)\n"
     ]
    },
    {
     "name": "stderr",
     "output_type": "stream",
     "text": [
      "INFO: Running nipype version 1.4.0 (latest: 1.4.2)\n"
     ]
    }
   ],
   "source": [
    "import flywheel\n",
    "import re\n",
    "import sys\n",
    "import os\n",
    "import glob\n",
    "import shutil\n",
    "import nibabel as nb\n",
    "from fw_heudiconv.cli import export"
   ]
  },
  {
   "cell_type": "markdown",
   "metadata": {},
   "source": [
    "Initialise flywheel data:"
   ]
  },
  {
   "cell_type": "code",
   "execution_count": null,
   "metadata": {},
   "outputs": [],
   "source": [
    "client = flywheel.Client()\n",
    "\n",
    "RBC_proj = client.projects.find_first('label=\"ReproBrainChart\"')\n",
    "\n",
    "RBC_subjects = RBC_proj.subjects()\n",
    "\n",
    "PNC_CS_proj = client.projects.find_first('label=\"PNC_CS_810336\"')\n",
    "PNC_LG_proj = client.projects.find_first('label=\"PNC_LG_810336\"')\n",
    "\n",
    "PNC_CS_subjects = PNC_CS_proj.subjects()\n",
    "PNC_LG_subjects = PNC_LG_proj.subjects()\n",
    "\n",
    "# get the penn_ids list\n",
    "penn_ids = pd.read_csv('/storage/ttapera/RBC/data/bblid_renamed.csv', dtype = {'bblid': str, 'reid': str})\n",
    "\n",
    "penn_ids['sub_id'] = 'sub-' + penn_ids['reid']"
   ]
  },
  {
   "cell_type": "code",
   "execution_count": null,
   "metadata": {},
   "outputs": [],
   "source": [
    "# function to remove a subject from the RBC project\n",
    "def remove_current_rbc_subject(row, RBC_subjects=RBC_subjects):\n",
    "\n",
    "    target = [x for x in RBC_subjects if x.label == row['sub_id']]\n",
    "    if len(target) == 1:\n",
    "        print('found subject to remove: ', list(row), target[0].id)\n",
    "        print('client.delete_subject(target[0].id)')\n",
    "        return True\n",
    "    else:\n",
    "        return False\n"
   ]
  },
  {
   "cell_type": "code",
   "execution_count": null,
   "metadata": {},
   "outputs": [],
   "source": [
    "penn_ids['process'] = penn_ids.apply(remove_current_rbc_subject, axis = 1)"
   ]
  },
  {
   "cell_type": "code",
   "execution_count": null,
   "metadata": {},
   "outputs": [],
   "source": [
    "penn_ids.to_csv('/storage/ttapera/RBC/data/bblids_2.csv', index=False)"
   ]
  },
  {
   "cell_type": "code",
   "execution_count": null,
   "metadata": {},
   "outputs": [],
   "source": [
    "sessions = None\n",
    "#downloads = export.gather_bids(client, PNC_CS_proj.label, '80010', sessions)"
   ]
  },
  {
   "cell_type": "code",
   "execution_count": null,
   "metadata": {
    "scrolled": true
   },
   "outputs": [],
   "source": [
    "sessions = None\n",
    "\n",
    "for index, row in tqdm(penn_ids.iterrows(), total=penn_ids.shape[0]):\n",
    "    \n",
    "    print(\"Processing...\")\n",
    "    should_replace = False\n",
    "    # first remove the existing data on RBC\n",
    "    should_replace = remove_current_rbc_subject(row, RBC_subjects)\n",
    "    \n",
    "    if should_replace:\n",
    "        # download the data from PNC\n",
    "        print(\"Gathering PNC CS BIDS...\")\n",
    "        pnc1_data = export.gather_bids(client, PNC_CS_proj.label, row['bblid'], sessions)        \n",
    "        print(\"\\nDownloading BIDS...\\n\")\n",
    "        export.download_bids(\n",
    "            client, pnc1_data, \n",
    "            '/storage/ttapera/RBC/data/', \n",
    "            folders_to_download = ['anat', 'func', 'fmap'],\n",
    "            dry_run=False,\n",
    "            name='PNC1')\n",
    "\n",
    "        print(\"Gathering PNC LG BIDS...\")\n",
    "        try:\n",
    "            pnc2_data = export.gather_bids(client, PNC_LG_proj.label, row['bblid'], sessions)\n",
    "\n",
    "            export.download_bids(\n",
    "                client, pnc2_data, \n",
    "                '/storage/ttapera/RBC/data/', \n",
    "                folders_to_download = ['anat', 'func', 'fmap'],\n",
    "                dry_run=False,\n",
    "                name='PNC2')\n",
    "        except:\n",
    "            print(\"no second session!\")\n",
    "        \n",
    "        # merge any and all data\n",
    "        print(\"n\\Merging\\n\")\n",
    "        os.system(\"cp -r -R /storage/ttapera/RBC/data/PNC*/* /storage/ttapera/RBC/data/upload/\")\n",
    "        \n",
    "        # rename the files:\n",
    "        print(\"\\nRenaming\\n\")\n",
    "        for root, subdirs, files in os.walk(\"/storage/ttapera/RBC/data/upload/\"):\n",
    "\n",
    "            for f in files:\n",
    "                if row['bblid'] in f:\n",
    "                    print(\"renaming file \", f)\n",
    "                    new_name = f.replace(row['bblid'], row['reid'])\n",
    "                    os.rename(root + \"/\" + f, root + \"/\" + new_name)\n",
    "\n",
    "        # rename the subject-level directory\n",
    "        old_name = \"/storage/ttapera/RBC/data/upload/sub-\" + row['bblid']\n",
    "        new_name = old_name.replace(row['bblid'], row['reid'])\n",
    "        shutil.move(old_name, new_name)        \n",
    "        os.system(\"rm -rf /storage/ttapera/RBC/data/upload/sub*/sub*\")\n",
    "        \n",
    "        # apply defacing here\n",
    "        print(\"\\nDefacing\\n\")\n",
    "        for root, subdirs, files in os.walk(\"/storage/ttapera/RBC/data/upload/\"):\n",
    "\n",
    "            for f in files:\n",
    "                if \".nii\" in f:\n",
    "                    print(\"defacing \" + f)\n",
    "                    cmd = (\"docker run -ti --rm \"\n",
    "                           \"-v {}:/data \"\n",
    "                           \"pennbbl/mrideface \"\n",
    "                           \"/data/{} \"\n",
    "                           \"/opt/mrideface/talairach_mixed_with_skull.gca \"\n",
    "                           \"/opt/mrideface/face.gca \"\n",
    "                           \"/data/{} \".format(root, f, f))\n",
    "                    \n",
    "                    print(cmd)\n",
    "                    output = subprocess.check_output(cmd)\n",
    "        \n",
    "        # upload here\n",
    "        print(\"\\nUploading\\n\")\n",
    "        \n",
    "        # remove from filesystem here\n",
    "        print(\"\\nClearing local data\\n\")\n",
    "        os.system(\"rm -rf /storage/ttapera/RBC/data/upload/*\")\n",
    "        os.system(\"rm -rf /storage/ttapera/RBC/data/PNC*\")\n",
    "        os.system(\"rm -rf /storage/ttapera/RBC/data/sub*\")"
   ]
  },
  {
   "cell_type": "code",
   "execution_count": 16,
   "metadata": {},
   "outputs": [
    {
     "name": "stdout",
     "output_type": "stream",
     "text": [
      "Checking for successful download in  /storage/ttapera/RBC/data/test/sub-*/ses-*/*/*.nii.gz\n",
      "/storage/ttapera/RBC/data/test/sub-80010/ses-PNC2/func/sub-80010_ses-PNC2_task-frac2back.nii.gz\n",
      "/storage/ttapera/RBC/data/test/sub-80010/ses-PNC2/func/sub-80010_ses-PNC2_task-idemo.nii.gz\n",
      "/storage/ttapera/RBC/data/test/sub-80010/ses-PNC2/func/sub-80010_ses-PNC2_task-rest_acq-singleband_bold.nii.gz\n",
      "/storage/ttapera/RBC/data/test/sub-80010/ses-PNC2/fmap/sub-80010_ses-PNC2_phase1.nii.gz\n",
      "/storage/ttapera/RBC/data/test/sub-80010/ses-PNC2/fmap/sub-80010_ses-PNC2_magnitude1.nii.gz\n",
      "/storage/ttapera/RBC/data/test/sub-80010/ses-PNC2/fmap/sub-80010_ses-PNC2_magnitude2.nii.gz\n",
      "/storage/ttapera/RBC/data/test/sub-80010/ses-PNC2/fmap/sub-80010_ses-PNC2_phase2.nii.gz\n"
     ]
    },
    {
     "data": {
      "text/plain": [
       "True"
      ]
     },
     "execution_count": 16,
     "metadata": {},
     "output_type": "execute_result"
    }
   ],
   "source": [
    "check_download(path)"
   ]
  },
  {
   "cell_type": "code",
   "execution_count": 73,
   "metadata": {},
   "outputs": [],
   "source": [
    "def download_bids2(args):\n",
    "\n",
    "    print(\"Gathering PNC CS BIDS...\")\n",
    "\n",
    "    processes = []\n",
    "    \n",
    "    processes.append(\"fw export bids /storage/ttapera/RBC/data/bids_dataset --project PNC_CS_810336 --subject {} --data-type anat\".format(str(args[1])))\n",
    "    \n",
    "    processes.append(\"fw export bids /storage/ttapera/RBC/data/bids_dataset --project PNC_CS_810336 --subject {} --data-type func\".format(str(args[1])))\n",
    "    \n",
    "    processes.append(\"fw export bids /storage/ttapera/RBC/data/bids_dataset --project PNC_CS_810336 --subject {} --data-type fmap\".format(str(args[1])))\n",
    "    \n",
    "    \n",
    "    processes.append(\"fw export bids /storage/ttapera/RBC/data/bids_dataset --project PNC_LG_810336 --subject {} --data-type anat\".format(str(args[1])))\n",
    "    \n",
    "    processes.append(\"fw export bids /storage/ttapera/RBC/data/bids_dataset --project PNC_LG_810336 --subject {} --data-type func\".format(str(args[1])))\n",
    "    \n",
    "    processes.append(\"fw export bids /storage/ttapera/RBC/data/bids_dataset --project PNC_LG_810336 --subject {} --data-type fmap\".format(str(args[1])))\n",
    "\n",
    "    statuses = []\n",
    "    \n",
    "    for process in processes:\n",
    "        p = subprocess.Popen(process, shell=True)\n",
    "        statuses.append(p)\n",
    "\n",
    "    for i, p in enumerate(statuses):\n",
    "        stat = p.wait()\n",
    "        print(\"Process \", i, \" complete with status \", stat)"
   ]
  },
  {
   "cell_type": "code",
   "execution_count": 43,
   "metadata": {},
   "outputs": [],
   "source": [
    "args = ['foo', '80010', 'foofie']"
   ]
  },
  {
   "cell_type": "code",
   "execution_count": 15,
   "metadata": {},
   "outputs": [],
   "source": [
    "def check_download(path):\n",
    "\n",
    "    print(\"Checking for successful download in \", path)\n",
    "    \n",
    "    paths = glob.glob(path)\n",
    "    paths = paths[1:]\n",
    "    if len(paths) <= 1:\n",
    "        return False\n",
    "    for name in paths:\n",
    "\n",
    "        print(name)\n",
    "        try:\n",
    "            img = nb.load(name)\n",
    "        except Exception as e:\n",
    "            print(e)\n",
    "            return False\n",
    "\n",
    "    return True"
   ]
  },
  {
   "cell_type": "code",
   "execution_count": 44,
   "metadata": {},
   "outputs": [
    {
     "name": "stdout",
     "output_type": "stream",
     "text": [
      "Gathering PNC CS BIDS...\n",
      "Process  0  complete with status  0\n",
      "Process  1  complete with status  0\n",
      "Process  2  complete with status  0\n",
      "Process  3  complete with status  0\n",
      "Process  4  complete with status  0\n",
      "Process  5  complete with status  0\n"
     ]
    }
   ],
   "source": [
    "download_bids2(args)"
   ]
  },
  {
   "cell_type": "code",
   "execution_count": 65,
   "metadata": {},
   "outputs": [],
   "source": [
    "def cleanup_bids(path):\n",
    "    \n",
    "    paths = glob.glob(path)\n",
    "    paths = paths[1:]\n",
    "\n",
    "    for name in paths:\n",
    "\n",
    "        print(name)\n",
    "        pattern = re.compile(\"sub-[0-9]+_ses-PNC[^1]+_task-[^(rest)]\")\n",
    "        if pattern.search(name):\n",
    "            print(\"removing file...\")\n",
    "            os.system(\"rm {}\".format(name))\n"
   ]
  },
  {
   "cell_type": "code",
   "execution_count": 70,
   "metadata": {},
   "outputs": [],
   "source": [
    "def rename_bids(args):\n",
    "    \n",
    "    for root, subdirs, files in os.walk(\"/storage/ttapera/RBC/data/bids_dataset/\"):\n",
    "\n",
    "        for f in files:\n",
    "            if args[1] in f:\n",
    "                print(\"renaming file \", f)\n",
    "                new_name = f.replace(args[1], args[2])\n",
    "                os.rename(root + \"/\" + f, root + \"/\" + new_name)\n",
    "    \n",
    "    old_name = \"/storage/ttapera/RBC/data/bids_dataset/sub-\" + args[1]\n",
    "    new_name = old_name.replace(args[1], args[2])\n",
    "    shutil.move(old_name, new_name)"
   ]
  },
  {
   "cell_type": "code",
   "execution_count": 71,
   "metadata": {},
   "outputs": [],
   "source": [
    "rename_bids(args)"
   ]
  },
  {
   "cell_type": "code",
   "execution_count": 83,
   "metadata": {
    "scrolled": true
   },
   "outputs": [
    {
     "name": "stdout",
     "output_type": "stream",
     "text": [
      "Gathering PNC BIDS...\n",
      "Process  0  complete with status  0\n",
      "Failed export:\n",
      " fw export bids /storage/ttapera/RBC/data/bids_dataset --project PNC_CS_810336 --subject 139469 --data-type func\n",
      "Process  2  complete with status  0\n",
      "Process  3  complete with status  0\n",
      "Failed export:\n",
      " fw export bids /storage/ttapera/RBC/data/bids_dataset --project PNC_LG_810336 --subject 139469 --data-type anat\n",
      "Failed export:\n",
      " fw export bids /storage/ttapera/RBC/data/bids_dataset --project PNC_LG_810336 --subject 139469 --data-type func\n",
      "Failed export:\n",
      " fw export bids /storage/ttapera/RBC/data/bids_dataset --project PNC_LG_810336 --subject 139469 --data-type fmap\n",
      "/storage/ttapera/RBC/data/bids_dataset/sub-139469/ses-PNC1/anat/sub-139469_ses-PNC1_T1w.json\n",
      "/storage/ttapera/RBC/data/bids_dataset/sub-139469/ses-PNC1/fmap/sub-139469_ses-PNC1_magnitude2.nii.gz\n",
      "/storage/ttapera/RBC/data/bids_dataset/sub-139469/ses-PNC1/fmap/sub-139469_ses-PNC1_phase2.nii.gz\n",
      "/storage/ttapera/RBC/data/bids_dataset/sub-139469/ses-PNC1/fmap/sub-139469_ses-PNC1_magnitude1.nii.gz\n",
      "/storage/ttapera/RBC/data/bids_dataset/sub-139469/ses-PNC1/fmap/sub-139469_ses-PNC1_phase1.nii.gz\n",
      "/storage/ttapera/RBC/data/bids_dataset/sub-139469/ses-PNC1/fmap/sub-139469_ses-PNC1_phase2.json\n",
      "/storage/ttapera/RBC/data/bids_dataset/sub-139469/ses-PNC1/fmap/sub-139469_ses-PNC1_phase1.json\n",
      "/storage/ttapera/RBC/data/bids_dataset/sub-139469/ses-PNC1/fmap/sub-139469_ses-PNC1_magnitude1.json\n",
      "/storage/ttapera/RBC/data/bids_dataset/sub-139469/ses-PNC1/fmap/sub-139469_ses-PNC1_magnitude2.json\n",
      "/storage/ttapera/RBC/data/bids_dataset/sub-139469/ses-PNC1/dwi/sub-139469_ses-PNC1_run-01_dwi.json\n",
      "/storage/ttapera/RBC/data/bids_dataset/sub-139469/ses-PNC1/dwi/sub-139469_ses-PNC1_run-01_dwi.bvec\n",
      "/storage/ttapera/RBC/data/bids_dataset/sub-139469/ses-PNC1/dwi/sub-139469_ses-PNC1_run-01_dwi.nii.gz\n",
      "/storage/ttapera/RBC/data/bids_dataset/sub-139469/ses-PNC1/dwi/sub-139469_ses-PNC1_run-01_dwi.bval\n",
      "/storage/ttapera/RBC/data/bids_dataset/sub-139469/ses-PNC1/dwi/sub-139469_ses-PNC1_run-02_dwi.nii.gz\n",
      "/storage/ttapera/RBC/data/bids_dataset/sub-139469/ses-PNC1/dwi/sub-139469_ses-PNC1_run-02_dwi.bvec\n",
      "/storage/ttapera/RBC/data/bids_dataset/sub-139469/ses-PNC1/dwi/sub-139469_ses-PNC1_run-02_dwi.bval\n",
      "/storage/ttapera/RBC/data/bids_dataset/sub-139469/ses-PNC1/dwi/sub-139469_ses-PNC1_run-02_dwi.json\n",
      "renaming file  sub-139469_ses-PNC1_T1w.nii.gz\n",
      "renaming file  sub-139469_ses-PNC1_T1w.json\n",
      "renaming file  sub-139469_ses-PNC1_magnitude2.nii.gz\n",
      "renaming file  sub-139469_ses-PNC1_phase2.nii.gz\n",
      "renaming file  sub-139469_ses-PNC1_magnitude1.nii.gz\n",
      "renaming file  sub-139469_ses-PNC1_phase1.nii.gz\n",
      "renaming file  sub-139469_ses-PNC1_phase2.json\n",
      "renaming file  sub-139469_ses-PNC1_phase1.json\n",
      "renaming file  sub-139469_ses-PNC1_magnitude1.json\n",
      "renaming file  sub-139469_ses-PNC1_magnitude2.json\n",
      "renaming file  sub-139469_ses-PNC1_run-01_dwi.json\n",
      "renaming file  sub-139469_ses-PNC1_run-01_dwi.bvec\n",
      "renaming file  sub-139469_ses-PNC1_run-01_dwi.nii.gz\n",
      "renaming file  sub-139469_ses-PNC1_run-01_dwi.bval\n",
      "renaming file  sub-139469_ses-PNC1_run-02_dwi.nii.gz\n",
      "renaming file  sub-139469_ses-PNC1_run-02_dwi.bvec\n",
      "renaming file  sub-139469_ses-PNC1_run-02_dwi.bval\n",
      "renaming file  sub-139469_ses-PNC1_run-02_dwi.json\n",
      "Checking for successful download in  /storage/ttapera/RBC/data/bids_dataset/sub-*/ses-*/*/*\n",
      "/storage/ttapera/RBC/data/bids_dataset/sub-foofie/ses-PNC1/anat/sub-foofie_ses-PNC1_T1w.nii.gz\n",
      "/storage/ttapera/RBC/data/bids_dataset/sub-foofie/ses-PNC1/fmap/sub-foofie_ses-PNC1_phase2.nii.gz\n",
      "/storage/ttapera/RBC/data/bids_dataset/sub-foofie/ses-PNC1/fmap/sub-foofie_ses-PNC1_magnitude2.json\n",
      "Cannot work out file type of \"/storage/ttapera/RBC/data/bids_dataset/sub-foofie/ses-PNC1/fmap/sub-foofie_ses-PNC1_magnitude2.json\"\n",
      "False\n"
     ]
    }
   ],
   "source": [
    "def download_bids2(args):\n",
    "    \n",
    "    # use the fw export bids cli + subprocess to download the anat fmap and func folders\n",
    "    print(\"Gathering PNC BIDS...\")\n",
    "\n",
    "    processes = []\n",
    "    \n",
    "    processes.append(\"fw export bids /storage/ttapera/RBC/data/bids_dataset --project PNC_CS_810336 --subject {} --data-type anat\".format(str(args[1])))\n",
    "    \n",
    "    processes.append(\"fw export bids /storage/ttapera/RBC/data/bids_dataset --project PNC_CS_810336 --subject {} --data-type func\".format(str(args[1])))\n",
    "    \n",
    "    processes.append(\"fw export bids /storage/ttapera/RBC/data/bids_dataset --project PNC_CS_810336 --subject {} --data-type fmap\".format(str(args[1])))\n",
    "    \n",
    "    processes.append(\"fw export bids /storage/ttapera/RBC/data/bids_dataset --project PNC_CS_810336 --subject {} --data-type dwi\".format(str(args[1])))\n",
    "    \n",
    "    processes.append(\"fw export bids /storage/ttapera/RBC/data/bids_dataset --project PNC_LG_810336 --subject {} --data-type anat\".format(str(args[1])))\n",
    "    \n",
    "    processes.append(\"fw export bids /storage/ttapera/RBC/data/bids_dataset --project PNC_LG_810336 --subject {} --data-type func\".format(str(args[1])))\n",
    "    \n",
    "    processes.append(\"fw export bids /storage/ttapera/RBC/data/bids_dataset --project PNC_LG_810336 --subject {} --data-type fmap\".format(str(args[1])))\n",
    "\n",
    "    # use subprocess just to see which download successfully; those without PNC_LG will fail with exit 1\n",
    "    statuses = []\n",
    "    \n",
    "    for process in processes:\n",
    "        p = subprocess.Popen(process, shell=True)\n",
    "        statuses.append(p)\n",
    "\n",
    "    for i, p in enumerate(statuses):\n",
    "        stat = p.wait()\n",
    "        if stat == 1:\n",
    "            print(\"Failed export:\\n\", processes[i])\n",
    "        else:\n",
    "            print(\"Process \", i, \" complete with status \", stat)\n",
    "        \n",
    "def cleanup_bids(path):\n",
    "    \n",
    "    # Remove any files from PNC2/3 that are not \n",
    "    paths = glob.glob(path)\n",
    "    paths = paths[1:]\n",
    "\n",
    "    for name in paths:\n",
    "\n",
    "        print(name)\n",
    "        pattern = re.compile(\"sub-[0-9]+_ses-PNC[^1]+_task-[^(rest)]\")\n",
    "        if pattern.search(name):\n",
    "            print(\"removing file...\")\n",
    "            os.system(\"rm {}\".format(name))\n",
    "\n",
    "def rename_bids(args):\n",
    "    \n",
    "    for root, subdirs, files in os.walk(\"/storage/ttapera/RBC/data/bids_dataset/\"):\n",
    "\n",
    "        for f in files:\n",
    "            if args[1] in f:\n",
    "                print(\"renaming file \", f)\n",
    "                new_name = f.replace(args[1], args[2])\n",
    "                os.rename(root + \"/\" + f, root + \"/\" + new_name)\n",
    "    \n",
    "    old_name = \"/storage/ttapera/RBC/data/bids_dataset/sub-\" + args[1]\n",
    "    new_name = old_name.replace(args[1], args[2])\n",
    "    shutil.move(old_name, new_name)\n",
    "\n",
    "def check_headers(path):\n",
    "\n",
    "    print(\"Checking for successful download in \", path)\n",
    "    \n",
    "    paths = glob.glob(path)\n",
    "    paths = paths[1:]\n",
    "    if len(paths) <= 1:\n",
    "        return False\n",
    "    for name in paths:\n",
    "\n",
    "        print(name)\n",
    "        try:\n",
    "            img = nb.load(name)\n",
    "        except Exception as e:\n",
    "            print(e)\n",
    "            return False\n",
    "\n",
    "    return True\n",
    "\n",
    "args = ['foo', '139469', 'foofie', 'sub-foofie']\n",
    "path = \"/storage/ttapera/RBC/data/bids_dataset/sub-*/ses-*/*/*\"\n",
    "\n",
    "download_bids2(args)\n",
    "cleanup_bids(path)\n",
    "rename_bids(args)\n",
    "check = check_headers(path)\n",
    "print(check)"
   ]
  },
  {
   "cell_type": "code",
   "execution_count": null,
   "metadata": {},
   "outputs": [],
   "source": []
  }
 ],
 "metadata": {
  "kernelspec": {
   "display_name": "Python 3",
   "language": "python",
   "name": "python3"
  },
  "language_info": {
   "codemirror_mode": {
    "name": "ipython",
    "version": 3
   },
   "file_extension": ".py",
   "mimetype": "text/x-python",
   "name": "python",
   "nbconvert_exporter": "python",
   "pygments_lexer": "ipython3",
   "version": "3.7.5"
  }
 },
 "nbformat": 4,
 "nbformat_minor": 2
}
