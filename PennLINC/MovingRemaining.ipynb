{
 "cells": [
  {
   "cell_type": "code",
   "execution_count": null,
   "metadata": {},
   "outputs": [],
   "source": [
    "import pandas as pd\n",
    "import flywheel"
   ]
  },
  {
   "cell_type": "code",
   "execution_count": null,
   "metadata": {},
   "outputs": [],
   "source": [
    "client = flywheel.Client()"
   ]
  },
  {
   "cell_type": "markdown",
   "metadata": {},
   "source": [
    "Let's test moving a subject with the SDK"
   ]
  },
  {
   "cell_type": "code",
   "execution_count": null,
   "metadata": {},
   "outputs": [],
   "source": [
    "test_session = client.get('5d4dac1fc3758a0041d6472d')\n",
    "test_subject = client.get_subject(test_session.subject.id)\n",
    "test_project = client.get(test_session.parents.project)"
   ]
  },
  {
   "cell_type": "code",
   "execution_count": null,
   "metadata": {},
   "outputs": [],
   "source": [
    "print(test_project.label, test_subject.label, test_session.label)"
   ]
  },
  {
   "cell_type": "code",
   "execution_count": null,
   "metadata": {},
   "outputs": [],
   "source": [
    "target_project = client.get('5c743dc7ba258000383968cd')\n",
    "print(target_project.label)"
   ]
  },
  {
   "cell_type": "code",
   "execution_count": null,
   "metadata": {},
   "outputs": [],
   "source": [
    "test_subject.update({'project': target_project.id})"
   ]
  },
  {
   "cell_type": "markdown",
   "metadata": {},
   "source": [
    "Check changes:"
   ]
  },
  {
   "cell_type": "code",
   "execution_count": null,
   "metadata": {},
   "outputs": [],
   "source": [
    "test_subject = test_subject.reload()"
   ]
  },
  {
   "cell_type": "code",
   "execution_count": null,
   "metadata": {},
   "outputs": [],
   "source": [
    "client.get(test_subject.project).label"
   ]
  },
  {
   "cell_type": "markdown",
   "metadata": {},
   "source": [
    "Fantastic!\n",
    "\n",
    "Now return it:"
   ]
  },
  {
   "cell_type": "code",
   "execution_count": null,
   "metadata": {},
   "outputs": [],
   "source": [
    "test_subject.update({'project': test_project.id})"
   ]
  },
  {
   "cell_type": "code",
   "execution_count": null,
   "metadata": {},
   "outputs": [],
   "source": [
    "test_subject = test_subject.reload()\n",
    "client.get(test_subject.project).label"
   ]
  },
  {
   "cell_type": "markdown",
   "metadata": {},
   "source": [
    "---\n",
    "\n",
    "Now we can work on moving the remaining PNC subjects."
   ]
  },
  {
   "cell_type": "code",
   "execution_count": null,
   "metadata": {},
   "outputs": [],
   "source": [
    "original = client.projects.find_first('label=ReproBrainChart')"
   ]
  },
  {
   "cell_type": "code",
   "execution_count": null,
   "metadata": {},
   "outputs": [],
   "source": [
    "original_subjects = original.subjects()"
   ]
  },
  {
   "cell_type": "code",
   "execution_count": null,
   "metadata": {},
   "outputs": [],
   "source": [
    "pnc_df = pd.read_csv('/storage/ttapera/RBC/data/bblids_3.csv', names=['bblid', 'hash', 'fullid', 'process'])"
   ]
  },
  {
   "cell_type": "code",
   "execution_count": null,
   "metadata": {},
   "outputs": [],
   "source": [
    "pnc_df"
   ]
  },
  {
   "cell_type": "code",
   "execution_count": null,
   "metadata": {},
   "outputs": [],
   "source": [
    "target_project = client.projects.find_first('label=RBC_PNC')\n",
    "target_subjects = target_project.subjects()\n",
    "target_sessions = client.get_project_sessions(target_project.id)"
   ]
  },
  {
   "cell_type": "code",
   "execution_count": null,
   "metadata": {},
   "outputs": [],
   "source": [
    "len(target_sessions)"
   ]
  },
  {
   "cell_type": "markdown",
   "metadata": {},
   "source": [
    "It looks like something went wrong with moving these subjects. For those that don't have data in `original` we'll have to go and get their data from the PNC."
   ]
  },
  {
   "cell_type": "code",
   "execution_count": null,
   "metadata": {},
   "outputs": [],
   "source": [
    "original_labels = [x.label for x in original_subjects]\n",
    "target_labels = [x.label for x in target_subjects]"
   ]
  },
  {
   "cell_type": "code",
   "execution_count": null,
   "metadata": {},
   "outputs": [],
   "source": [
    "for i, row in pnc_df.iterrows():\n",
    "    \n",
    "    # first check if the subject is in the original project\n",
    "    print(row['bblid'], \"({})\".format(row['fullid']))\n",
    "    in_original = row['fullid'] in original_labels\n",
    "    print('In original:', in_original)\n",
    "    \n",
    "    \n",
    "    # then check if the subject is in the target project\n",
    "    in_target = row['fullid'] in target_labels\n",
    "    print('In target:', in_target)\n",
    "    \n",
    "    # check if the subject has a session in target\n",
    "    if in_target:\n",
    "        t_subject = [x for x in target_subjects if x.label == row['fullid']][0]\n",
    "        has_session = len(t_subject.sessions()) > 0\n",
    "        print('Has session:', has_session)\n",
    "    \n",
    "    print()"
   ]
  },
  {
   "cell_type": "code",
   "execution_count": null,
   "metadata": {},
   "outputs": [],
   "source": [
    "verbose = False\n",
    "to_process = pd.DataFrame(columns=pnc_df.columns)\n",
    "\n",
    "for i, row in pnc_df.iterrows():\n",
    "    \n",
    "    # first check if the subject is in the original project\n",
    "    if verbose: print(row['bblid'], \"({})\".format(row['fullid']))\n",
    "    in_original = row['fullid'] in original_labels\n",
    "    if verbose: print('In original:', in_original)\n",
    "    \n",
    "    \n",
    "    # then check if the subject is in the target project\n",
    "    in_target = row['fullid'] in target_labels\n",
    "    if verbose: print('In target:', in_target)\n",
    "    if not in_target:\n",
    "        to_process = to_process.append(row)\n",
    "    \n",
    "    # check if the subject has a session in target\n",
    "    if in_target:\n",
    "        t_subject = [x for x in target_subjects if x.label == row['fullid']][0]\n",
    "        has_session = len(t_subject.sessions()) > 0\n",
    "        if verbose: print('Has session:', has_session)\n",
    "        if not has_session:\n",
    "            to_process = to_process.append(row)\n",
    "        \n",
    "    if verbose: print()"
   ]
  },
  {
   "cell_type": "code",
   "execution_count": null,
   "metadata": {},
   "outputs": [],
   "source": [
    "to_process"
   ]
  },
  {
   "cell_type": "markdown",
   "metadata": {},
   "source": [
    "We also need to add the remaining 200 who had export errors:"
   ]
  },
  {
   "cell_type": "code",
   "execution_count": null,
   "metadata": {},
   "outputs": [],
   "source": [
    "remaining='''\n",
    "100031\n",
    "100088\n",
    "100115\n",
    "100278\n",
    "100401\n",
    "100761\n",
    "101098\n",
    "101158\n",
    "101327\n",
    "101754\n",
    "102467\n",
    "102598\n",
    "102954\n",
    "103009\n",
    "103541\n",
    "103621\n",
    "104207\n",
    "104991\n",
    "105083\n",
    "105215\n",
    "105309\n",
    "105634\n",
    "105672\n",
    "105765\n",
    "106919\n",
    "107394\n",
    "107522\n",
    "107867\n",
    "107903\n",
    "108012\n",
    "108034\n",
    "108358\n",
    "108372\n",
    "108805\n",
    "108952\n",
    "109083\n",
    "109301\n",
    "109575\n",
    "109600\n",
    "109647\n",
    "109649\n",
    "109667\n",
    "109731\n",
    "109732\n",
    "109853\n",
    "109914\n",
    "109980\n",
    "110166\n",
    "110176\n",
    "110511\n",
    "110586\n",
    "110828\n",
    "110961\n",
    "111820\n",
    "111873\n",
    "111884\n",
    "112269\n",
    "112408\n",
    "112624\n",
    "112861\n",
    "113433\n",
    "113551\n",
    "113744\n",
    "113929\n",
    "114069\n",
    "114117\n",
    "114165\n",
    "114326\n",
    "114436\n",
    "114738\n",
    "114785\n",
    "114824\n",
    "114891\n",
    "114935\n",
    "115051\n",
    "115267\n",
    "116130\n",
    "116191\n",
    "116371\n",
    "116672\n",
    "117529\n",
    "117595\n",
    "118615\n",
    "118702\n",
    "118708\n",
    "119287\n",
    "119386\n",
    "120052\n",
    "120508\n",
    "120850\n",
    "121476\n",
    "122579\n",
    "122801\n",
    "122896\n",
    "124947\n",
    "125106\n",
    "125250\n",
    "125292\n",
    "125505\n",
    "125524\n",
    "126230\n",
    "126347\n",
    "126425\n",
    "126532\n",
    "126837\n",
    "126852\n",
    "126960\n",
    "127488\n",
    "127527\n",
    "127611\n",
    "127731\n",
    "127854\n",
    "127977\n",
    "128061\n",
    "128079\n",
    "128154\n",
    "128208\n",
    "128601\n",
    "128691\n",
    "128979\n",
    "129272\n",
    "129435\n",
    "129486\n",
    "129591\n",
    "129741\n",
    "130332\n",
    "130438\n",
    "130480\n",
    "130639\n",
    "130693\n",
    "130759\n",
    "130858\n",
    "130908\n",
    "131010\n",
    "131076\n",
    "132560\n",
    "132791\n",
    "132995\n",
    "136004\n",
    "138875\n",
    "138929\n",
    "139151\n",
    "139427\n",
    "139469\n",
    "139490\n",
    "80179\n",
    "80199\n",
    "81231\n",
    "81353\n",
    "81533\n",
    "81662\n",
    "82587\n",
    "82709\n",
    "82877\n",
    "83013\n",
    "83035\n",
    "83113\n",
    "83260\n",
    "83322\n",
    "83429\n",
    "83454\n",
    "84096\n",
    "84814\n",
    "85083\n",
    "85412\n",
    "87166\n",
    "87282\n",
    "87445\n",
    "87563\n",
    "87699\n",
    "87905\n",
    "88166\n",
    "88209\n",
    "88395\n",
    "88589\n",
    "88760\n",
    "89300\n",
    "89320\n",
    "89502\n",
    "89505\n",
    "89557\n",
    "90066\n",
    "90736\n",
    "90742\n",
    "90849\n",
    "91145\n",
    "91466\n",
    "91555\n",
    "91674\n",
    "92500\n",
    "93020\n",
    "93242\n",
    "93282\n",
    "93755\n",
    "93891\n",
    "94324\n",
    "94572\n",
    "94621\n",
    "94643\n",
    "94815\n",
    "94906\n",
    "95051\n",
    "95387\n",
    "95587\n",
    "95754\n",
    "95992\n",
    "96201\n",
    "96574\n",
    "96591\n",
    "96904\n",
    "97124\n",
    "97271\n",
    "97485\n",
    "98319\n",
    "98320\n",
    "98339\n",
    "98425\n",
    "98488\n",
    "98555\n",
    "98585\n",
    "98934\n",
    "99268\n",
    "99480\n",
    "99604\n",
    "99648\n",
    "'''\n",
    "\n",
    "remaining = remaining.split()"
   ]
  },
  {
   "cell_type": "code",
   "execution_count": null,
   "metadata": {},
   "outputs": [],
   "source": [
    "remaining"
   ]
  },
  {
   "cell_type": "code",
   "execution_count": null,
   "metadata": {},
   "outputs": [],
   "source": [
    "verbose = True\n",
    "to_process = pd.DataFrame(columns=pnc_df.columns)\n",
    "\n",
    "for i, row in pnc_df.iterrows():\n",
    "    \n",
    "    # first check if the subject is in the original project\n",
    "    if verbose: print(row['bblid'], \"({})\".format(row['fullid']))\n",
    "    in_original = row['fullid'] in original_labels\n",
    "    if verbose: print('In original:', in_original)\n",
    "    \n",
    "    \n",
    "    # then check if the subject is in the target project\n",
    "    in_target = row['fullid'] in target_labels\n",
    "    if verbose: print('In target:', in_target)\n",
    "    if not in_target:\n",
    "        to_process = to_process.append(row)\n",
    "        if verbose: print()\n",
    "        continue\n",
    "    \n",
    "    # check if the subject has a session in target\n",
    "    if in_target:\n",
    "        t_subject = [x for x in target_subjects if x.label == row['fullid']][0]\n",
    "        has_session = len(t_subject.sessions()) > 0\n",
    "        if verbose: print('Has session:', has_session)\n",
    "        if not has_session:\n",
    "            to_process = to_process.append(row)\n",
    "            if verbose: print()\n",
    "            continue\n",
    "    \n",
    "    # check if subject is in remaining\n",
    "    if str(row['bblid']) in remaining:\n",
    "        if verbose: print(\"subject still hasn't been refaced\")\n",
    "        to_process = to_process.append(row)\n",
    "        if verbose: print()\n",
    "        continue\n",
    "\n",
    "    if verbose: print()"
   ]
  },
  {
   "cell_type": "code",
   "execution_count": null,
   "metadata": {},
   "outputs": [],
   "source": [
    "to_process"
   ]
  },
  {
   "cell_type": "code",
   "execution_count": null,
   "metadata": {},
   "outputs": [],
   "source": [
    "to_process.to_csv('../data/reupload.csv', index=False)"
   ]
  },
  {
   "cell_type": "code",
   "execution_count": null,
   "metadata": {},
   "outputs": [],
   "source": [
    "ls"
   ]
  },
  {
   "cell_type": "code",
   "execution_count": null,
   "metadata": {},
   "outputs": [],
   "source": []
  }
 ],
 "metadata": {
  "kernelspec": {
   "display_name": "Python 3",
   "language": "python",
   "name": "python3"
  },
  "language_info": {
   "codemirror_mode": {
    "name": "ipython",
    "version": 3
   },
   "file_extension": ".py",
   "mimetype": "text/x-python",
   "name": "python",
   "nbconvert_exporter": "python",
   "pygments_lexer": "ipython3",
   "version": "3.7.5"
  }
 },
 "nbformat": 4,
 "nbformat_minor": 2
}
