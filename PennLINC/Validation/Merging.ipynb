{
 "cells": [
  {
   "cell_type": "markdown",
   "metadata": {},
   "source": [
    "# Merging Outputs\n",
    "\n",
    "This notebook merges the outputs of the BIDS validator run on individual subjects"
   ]
  },
  {
   "cell_type": "code",
   "execution_count": 2,
   "metadata": {},
   "outputs": [],
   "source": [
    "import os\n",
    "import glob\n",
    "import json\n",
    "import datetime\n",
    "import pandas as pd"
   ]
  },
  {
   "cell_type": "code",
   "execution_count": 3,
   "metadata": {},
   "outputs": [],
   "source": [
    "def parse_validator(path):\n",
    "\n",
    "    def get_nested(dct, *keys):\n",
    "        for key in keys:\n",
    "            try:\n",
    "                dct = dct[key]\n",
    "            except (KeyError, TypeError):\n",
    "                return None\n",
    "        return dct\n",
    "\n",
    "    with open(path, 'r') as read_file:\n",
    "        data = json.load(read_file)\n",
    "\n",
    "    issues = data['issues']\n",
    "\n",
    "    def parse_issue(issue_dict):\n",
    "\n",
    "        return_dict = {}\n",
    "        return_dict['files'] = [get_nested(x, 'file', 'relativePath') for x in issue_dict.get('files', '')]\n",
    "        return_dict['type'] = issue_dict.get('key' '')\n",
    "        return_dict['severity'] = issue_dict.get('severity', '')\n",
    "        return_dict['description'] = issue_dict.get('reason', '')\n",
    "        return_dict['code'] = issue_dict.get('code', '')\n",
    "        return_dict['url'] = issue_dict.get('helpUrl', '')\n",
    "\n",
    "        return(return_dict)\n",
    "\n",
    "    df = pd.DataFrame()\n",
    "\n",
    "    for warn in issues['warnings']:\n",
    "\n",
    "        parsed = parse_issue(warn)\n",
    "        parsed = pd.DataFrame(parsed)\n",
    "        df = df.append(parsed, ignore_index=True)\n",
    "\n",
    "    for err in issues['errors']:\n",
    "\n",
    "        parsed = parse_issue(err)\n",
    "        parsed = pd.DataFrame(parsed)\n",
    "        df = df.append(parsed, ignore_index=True)\n",
    "\n",
    "    return df\n",
    "\n",
    "issues = {}"
   ]
  },
  {
   "cell_type": "markdown",
   "metadata": {},
   "source": [
    "## PNC"
   ]
  },
  {
   "cell_type": "code",
   "execution_count": 4,
   "metadata": {},
   "outputs": [
    {
     "name": "stdout",
     "output_type": "stream",
     "text": [
      "Last Run: 2020-09-24 19:09:47.945094\n"
     ]
    },
    {
     "data": {
      "text/html": [
       "<div>\n",
       "<style scoped>\n",
       "    .dataframe tbody tr th:only-of-type {\n",
       "        vertical-align: middle;\n",
       "    }\n",
       "\n",
       "    .dataframe tbody tr th {\n",
       "        vertical-align: top;\n",
       "    }\n",
       "\n",
       "    .dataframe thead tr th {\n",
       "        text-align: left;\n",
       "    }\n",
       "\n",
       "    .dataframe thead tr:last-of-type th {\n",
       "        text-align: right;\n",
       "    }\n",
       "</style>\n",
       "<table border=\"1\" class=\"dataframe\">\n",
       "  <thead>\n",
       "    <tr>\n",
       "      <th></th>\n",
       "      <th></th>\n",
       "      <th>files</th>\n",
       "    </tr>\n",
       "    <tr>\n",
       "      <th></th>\n",
       "      <th></th>\n",
       "      <th>count</th>\n",
       "    </tr>\n",
       "    <tr>\n",
       "      <th>severity</th>\n",
       "      <th>type</th>\n",
       "      <th></th>\n",
       "    </tr>\n",
       "  </thead>\n",
       "  <tbody>\n",
       "    <tr>\n",
       "      <th rowspan=\"3\" valign=\"top\">error</th>\n",
       "      <th>DWI_MISSING_BVAL</th>\n",
       "      <td>1</td>\n",
       "    </tr>\n",
       "    <tr>\n",
       "      <th>DWI_MISSING_BVEC</th>\n",
       "      <td>1</td>\n",
       "    </tr>\n",
       "    <tr>\n",
       "      <th>ECHO_TIME1-2_NOT_DEFINED</th>\n",
       "      <td>17</td>\n",
       "    </tr>\n",
       "    <tr>\n",
       "      <th rowspan=\"5\" valign=\"top\">warning</th>\n",
       "      <th>EVENTS_TSV_MISSING</th>\n",
       "      <td>3067</td>\n",
       "    </tr>\n",
       "    <tr>\n",
       "      <th>INCONSISTENT_PARAMETERS</th>\n",
       "      <td>1421</td>\n",
       "    </tr>\n",
       "    <tr>\n",
       "      <th>MISSING_MAGNITUDE1_FILE</th>\n",
       "      <td>17</td>\n",
       "    </tr>\n",
       "    <tr>\n",
       "      <th>NO_AUTHORS</th>\n",
       "      <td>0</td>\n",
       "    </tr>\n",
       "    <tr>\n",
       "      <th>README_FILE_MISSING</th>\n",
       "      <td>0</td>\n",
       "    </tr>\n",
       "  </tbody>\n",
       "</table>\n",
       "</div>"
      ],
      "text/plain": [
       "                                  files\n",
       "                                  count\n",
       "severity type                          \n",
       "error    DWI_MISSING_BVAL             1\n",
       "         DWI_MISSING_BVEC             1\n",
       "         ECHO_TIME1-2_NOT_DEFINED    17\n",
       "warning  EVENTS_TSV_MISSING        3067\n",
       "         INCONSISTENT_PARAMETERS   1421\n",
       "         MISSING_MAGNITUDE1_FILE     17\n",
       "         NO_AUTHORS                   0\n",
       "         README_FILE_MISSING          0"
      ]
     },
     "execution_count": 4,
     "metadata": {},
     "output_type": "execute_result"
    }
   ],
   "source": [
    "dataset = 'PNC'\n",
    "path = '/storage/ttapera/RBC/data/validation/{}/sub-*/issues.json'.format(dataset)\n",
    "all_files = glob.glob(path)\n",
    "\n",
    "li = []\n",
    "\n",
    "for filename in all_files:\n",
    "    df = parse_validator(filename)\n",
    "    df['subject'] = filename.split('/')[7]\n",
    "    li.append(df)\n",
    "    \n",
    "issues[dataset] = pd.concat(li, axis=0, ignore_index=True)\n",
    "print('Last Run:', datetime.datetime.now())\n",
    "issues[dataset][['severity', 'type', 'files']].groupby(['severity', 'type']).agg(['count'])"
   ]
  },
  {
   "cell_type": "code",
   "execution_count": 5,
   "metadata": {},
   "outputs": [],
   "source": [
    "issues[dataset].to_csv('/storage/ttapera/RBC/PennLINC/Validation/{}/validation.csv'.format(dataset), index=False)"
   ]
  },
  {
   "cell_type": "markdown",
   "metadata": {},
   "source": [
    "## HBN"
   ]
  },
  {
   "cell_type": "code",
   "execution_count": 6,
   "metadata": {},
   "outputs": [
    {
     "name": "stdout",
     "output_type": "stream",
     "text": [
      "Last Run: 2020-09-24 19:10:11.029821\n"
     ]
    },
    {
     "data": {
      "text/html": [
       "<div>\n",
       "<style scoped>\n",
       "    .dataframe tbody tr th:only-of-type {\n",
       "        vertical-align: middle;\n",
       "    }\n",
       "\n",
       "    .dataframe tbody tr th {\n",
       "        vertical-align: top;\n",
       "    }\n",
       "\n",
       "    .dataframe thead tr th {\n",
       "        text-align: left;\n",
       "    }\n",
       "\n",
       "    .dataframe thead tr:last-of-type th {\n",
       "        text-align: right;\n",
       "    }\n",
       "</style>\n",
       "<table border=\"1\" class=\"dataframe\">\n",
       "  <thead>\n",
       "    <tr>\n",
       "      <th></th>\n",
       "      <th></th>\n",
       "      <th>files</th>\n",
       "    </tr>\n",
       "    <tr>\n",
       "      <th></th>\n",
       "      <th></th>\n",
       "      <th>count</th>\n",
       "    </tr>\n",
       "    <tr>\n",
       "      <th>severity</th>\n",
       "      <th>type</th>\n",
       "      <th></th>\n",
       "    </tr>\n",
       "  </thead>\n",
       "  <tbody>\n",
       "    <tr>\n",
       "      <th>error</th>\n",
       "      <th>NOT_INCLUDED</th>\n",
       "      <td>98</td>\n",
       "    </tr>\n",
       "    <tr>\n",
       "      <th rowspan=\"4\" valign=\"top\">warning</th>\n",
       "      <th>EVENTS_TSV_MISSING</th>\n",
       "      <td>8622</td>\n",
       "    </tr>\n",
       "    <tr>\n",
       "      <th>INCONSISTENT_PARAMETERS</th>\n",
       "      <td>38</td>\n",
       "    </tr>\n",
       "    <tr>\n",
       "      <th>NO_AUTHORS</th>\n",
       "      <td>0</td>\n",
       "    </tr>\n",
       "    <tr>\n",
       "      <th>README_FILE_MISSING</th>\n",
       "      <td>0</td>\n",
       "    </tr>\n",
       "  </tbody>\n",
       "</table>\n",
       "</div>"
      ],
      "text/plain": [
       "                                 files\n",
       "                                 count\n",
       "severity type                         \n",
       "error    NOT_INCLUDED               98\n",
       "warning  EVENTS_TSV_MISSING       8622\n",
       "         INCONSISTENT_PARAMETERS    38\n",
       "         NO_AUTHORS                  0\n",
       "         README_FILE_MISSING         0"
      ]
     },
     "execution_count": 6,
     "metadata": {},
     "output_type": "execute_result"
    }
   ],
   "source": [
    "dataset = 'HBN'\n",
    "path = '/storage/ttapera/RBC/data/validation/{}/sub-*/issues.json'.format(dataset)\n",
    "all_files = glob.glob(path)\n",
    "\n",
    "li = []\n",
    "\n",
    "for filename in all_files:\n",
    "    df = parse_validator(filename)\n",
    "    df['subject'] = filename.split('/')[7]\n",
    "    li.append(df)\n",
    "    \n",
    "issues[dataset] = pd.concat(li, axis=0, ignore_index=True)\n",
    "print('Last Run:', datetime.datetime.now())\n",
    "issues[dataset][['severity', 'type', 'files']].groupby(['severity', 'type']).agg(['count'])"
   ]
  },
  {
   "cell_type": "code",
   "execution_count": 7,
   "metadata": {},
   "outputs": [],
   "source": [
    "issues[dataset].to_csv('/storage/ttapera/RBC/PennLINC/Validation/{}/validation.csv'.format(dataset), index=False)"
   ]
  },
  {
   "cell_type": "markdown",
   "metadata": {},
   "source": [
    "## NKI"
   ]
  },
  {
   "cell_type": "code",
   "execution_count": 12,
   "metadata": {},
   "outputs": [
    {
     "name": "stdout",
     "output_type": "stream",
     "text": [
      "Last Run: 2020-09-24 09:16:58.123098\n"
     ]
    },
    {
     "data": {
      "text/html": [
       "<div>\n",
       "<style scoped>\n",
       "    .dataframe tbody tr th:only-of-type {\n",
       "        vertical-align: middle;\n",
       "    }\n",
       "\n",
       "    .dataframe tbody tr th {\n",
       "        vertical-align: top;\n",
       "    }\n",
       "\n",
       "    .dataframe thead tr th {\n",
       "        text-align: left;\n",
       "    }\n",
       "\n",
       "    .dataframe thead tr:last-of-type th {\n",
       "        text-align: right;\n",
       "    }\n",
       "</style>\n",
       "<table border=\"1\" class=\"dataframe\">\n",
       "  <thead>\n",
       "    <tr>\n",
       "      <th></th>\n",
       "      <th></th>\n",
       "      <th>files</th>\n",
       "    </tr>\n",
       "    <tr>\n",
       "      <th></th>\n",
       "      <th></th>\n",
       "      <th>count</th>\n",
       "    </tr>\n",
       "    <tr>\n",
       "      <th>severity</th>\n",
       "      <th>type</th>\n",
       "      <th></th>\n",
       "    </tr>\n",
       "  </thead>\n",
       "  <tbody>\n",
       "    <tr>\n",
       "      <th rowspan=\"4\" valign=\"top\">error</th>\n",
       "      <th>EVENTS_COLUMN_DURATION</th>\n",
       "      <td>14825</td>\n",
       "    </tr>\n",
       "    <tr>\n",
       "      <th>EVENTS_COLUMN_ONSET</th>\n",
       "      <td>14825</td>\n",
       "    </tr>\n",
       "    <tr>\n",
       "      <th>NOT_INCLUDED</th>\n",
       "      <td>104</td>\n",
       "    </tr>\n",
       "    <tr>\n",
       "      <th>SESSION_VALUE_CONTAINS_ILLEGAL_CHARACTER</th>\n",
       "      <td>104</td>\n",
       "    </tr>\n",
       "    <tr>\n",
       "      <th rowspan=\"3\" valign=\"top\">warning</th>\n",
       "      <th>CUSTOM_COLUMN_WITHOUT_DESCRIPTION</th>\n",
       "      <td>14825</td>\n",
       "    </tr>\n",
       "    <tr>\n",
       "      <th>NO_AUTHORS</th>\n",
       "      <td>0</td>\n",
       "    </tr>\n",
       "    <tr>\n",
       "      <th>README_FILE_MISSING</th>\n",
       "      <td>0</td>\n",
       "    </tr>\n",
       "  </tbody>\n",
       "</table>\n",
       "</div>"
      ],
      "text/plain": [
       "                                                   files\n",
       "                                                   count\n",
       "severity type                                           \n",
       "error    EVENTS_COLUMN_DURATION                    14825\n",
       "         EVENTS_COLUMN_ONSET                       14825\n",
       "         NOT_INCLUDED                                104\n",
       "         SESSION_VALUE_CONTAINS_ILLEGAL_CHARACTER    104\n",
       "warning  CUSTOM_COLUMN_WITHOUT_DESCRIPTION         14825\n",
       "         NO_AUTHORS                                    0\n",
       "         README_FILE_MISSING                           0"
      ]
     },
     "execution_count": 12,
     "metadata": {},
     "output_type": "execute_result"
    }
   ],
   "source": [
    "dataset = 'NKI'\n",
    "path = '/storage/ttapera/RBC/data/validation/{}/sub-*/issues.json'.format(dataset)\n",
    "all_files = glob.glob(path)\n",
    "\n",
    "li = []\n",
    "\n",
    "for filename in all_files:\n",
    "    df = parse_validator(filename)\n",
    "    df['subject'] = filename.split('/')[7]\n",
    "    li.append(df)\n",
    "    \n",
    "issues[dataset] = pd.concat(li, axis=0, ignore_index=True)\n",
    "print('Last Run:', datetime.datetime.now())\n",
    "issues[dataset][['severity', 'type', 'files']].groupby(['severity', 'type']).agg(['count'])"
   ]
  },
  {
   "cell_type": "markdown",
   "metadata": {},
   "source": [
    "For code 1 (`NOT_INCLUDED`), it's confirmed that all 104 items are compressed tsv files, ending in `physio.tsv.gz`, hence they are not included in the BIDS spec.\n",
    "\n",
    "These same errors are included in code 64 (`SESSION_VALUE_CONTAINS_ILLEGAL_CHARACTER`) and all account for instances of physio files."
   ]
  },
  {
   "cell_type": "code",
   "execution_count": 8,
   "metadata": {},
   "outputs": [],
   "source": [
    "issues[dataset].to_csv('/storage/ttapera/RBC/PennLINC/Validation/{}/validation.csv'.format(dataset), index=False)"
   ]
  },
  {
   "cell_type": "code",
   "execution_count": null,
   "metadata": {},
   "outputs": [],
   "source": []
  }
 ],
 "metadata": {
  "kernelspec": {
   "display_name": "Python 3",
   "language": "python",
   "name": "python3"
  },
  "language_info": {
   "codemirror_mode": {
    "name": "ipython",
    "version": 3
   },
   "file_extension": ".py",
   "mimetype": "text/x-python",
   "name": "python",
   "nbconvert_exporter": "python",
   "pygments_lexer": "ipython3",
   "version": "3.7.5"
  }
 },
 "nbformat": 4,
 "nbformat_minor": 4
}
