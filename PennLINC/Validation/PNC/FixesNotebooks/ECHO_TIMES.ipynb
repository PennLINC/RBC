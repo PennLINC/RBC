{
 "cells": [
  {
   "cell_type": "markdown",
   "metadata": {},
   "source": [
    "# Fixing EchoTimes\n",
    "\n",
    "In this section we verify that the subjects with the `ECHO_TIME` errors have missing fieldmaps. Because these subjects were copied from PNC we will verify in that section that there are no fieldmaps available, only `phasediff`"
   ]
  },
  {
   "cell_type": "code",
   "execution_count": 1,
   "metadata": {},
   "outputs": [
    {
     "name": "stderr",
     "output_type": "stream",
     "text": [
      "/home/ttapera/miniconda3/envs/flywheel/lib/python3.7/site-packages/fw_heudiconv/backend_funcs/query.py:4: UserWarning: The DICOM readers are highly experimental, unstable, and only work for Siemens time-series at the moment\n",
      "Please use with caution.  We would be grateful for your help in improving them\n",
      "  from nibabel.nicom.dicomwrappers import wrapper_from_data\n"
     ]
    },
    {
     "name": "stdout",
     "output_type": "stream",
     "text": [
      "200910-19:25:19,88 nipype.utils INFO:\n",
      "\t Running nipype version 1.4.0 (latest: 1.5.0)\n"
     ]
    },
    {
     "name": "stderr",
     "output_type": "stream",
     "text": [
      "INFO: Running nipype version 1.4.0 (latest: 1.5.0)\n"
     ]
    }
   ],
   "source": [
    "import flywheel\n",
    "import pandas as pd\n",
    "from fw_heudiconv.cli.export import get_nested\n",
    "\n",
    "client = flywheel.Client()"
   ]
  },
  {
   "cell_type": "code",
   "execution_count": 2,
   "metadata": {},
   "outputs": [],
   "source": [
    "df = pd.read_csv('/storage/ttapera/RBC/PennLINC/Validation/PNC/validation.csv')\n",
    "echotimes_rows = df.loc[df['code'] == 15,]"
   ]
  },
  {
   "cell_type": "code",
   "execution_count": 3,
   "metadata": {},
   "outputs": [
    {
     "data": {
      "text/plain": [
       "317      sub-255089519\n",
       "452     sub-3260960488\n",
       "502     sub-3520758666\n",
       "971     sub-2441231201\n",
       "1013    sub-3103368139\n",
       "2890    sub-1163553824\n",
       "3149    sub-1060668554\n",
       "3822     sub-398131152\n",
       "4944    sub-1512248949\n",
       "6056    sub-1682850665\n",
       "6119    sub-1867827374\n",
       "6520    sub-1095340536\n",
       "6741     sub-134279804\n",
       "7147    sub-2216595430\n",
       "7398    sub-3925705705\n",
       "7420    sub-4066124203\n",
       "7554     sub-458296344\n",
       "Name: subject, dtype: object"
      ]
     },
     "execution_count": 3,
     "metadata": {},
     "output_type": "execute_result"
    }
   ],
   "source": [
    "echotimes_rows.subject"
   ]
  },
  {
   "cell_type": "markdown",
   "metadata": {},
   "source": [
    "We're going to confirm that these cases are all problematic because they have no fieldmaps to begin with in the PNC project:"
   ]
  },
  {
   "cell_type": "code",
   "execution_count": 4,
   "metadata": {},
   "outputs": [],
   "source": [
    "# get the subject ids <-> bblids\n",
    "\n",
    "rbc_subjects = list(echotimes_rows.subject)\n",
    "df2 = pd.read_csv('/storage/ttapera/RBC/data/bblids_3.csv', names=['bblid', 'hash', 'fullid', 'process'])\n",
    "\n",
    "pnc_subjects = df2[df2['fullid'].isin(rbc_subjects)]\n",
    "pnc_subjects = [str(i) for i in list(pnc_subjects.bblid)]"
   ]
  },
  {
   "cell_type": "code",
   "execution_count": 5,
   "metadata": {},
   "outputs": [],
   "source": [
    "# do some flywheel stuff\n",
    "\n",
    "pnc_proj = client.projects.find_first('label=PNC_CS_810336')\n",
    "subjects = pnc_proj.subjects()\n",
    "subjects2 = [sub for sub in subjects if sub.label in pnc_subjects]"
   ]
  },
  {
   "cell_type": "code",
   "execution_count": 6,
   "metadata": {},
   "outputs": [],
   "source": [
    "subjects_dict = dict(zip(pnc_subjects, rbc_subjects))"
   ]
  },
  {
   "cell_type": "code",
   "execution_count": 7,
   "metadata": {},
   "outputs": [
    {
     "name": "stdout",
     "output_type": "stream",
     "text": [
      "sub-458296344\n",
      "Available DICOMS:\n",
      "['DTI_2x32_36', 'DTI_2x32_35', 'bbl1_frac2back1_231', 'bbl1_idemo2_210', 'epi_singlerep', 'MoCoSeries', 'ep2d_se_pcasl_PHC_1200ms', 'MPRAGE_TI1100_ipat2', 'bbl1_restbold1_124', 'B0map_3.0mm', 'localizer']\n",
      "\n",
      "sub-3925705705\n",
      "Available DICOMS:\n",
      "['DTI_2x32_36', 'DTI_2x32_35', 'bbl1_idemo2_210', 'bbl1_frac2back1_231', 'epi_singlerep', 'MoCoSeries', 'ep2d_se_pcasl_PHC_1200ms', 'MPRAGE_TI1100_ipat2', 'bbl1_restbold1_124', 'B0map_3.0mm', 'localizer']\n",
      "\n",
      "sub-2441231201\n",
      "Available DICOMS:\n",
      "['DTI_2x32_35', 'localizer', 'bbl1_frac2back1_231', 'bbl1_idemo2_210', 'epi_singlerep', 'MoCoSeries', 'ep2d_se_pcasl_PHC_1200ms', 'MPRAGE_TI1100_ipat2', 'bbl1_restbold1_124', 'B0map_3.0mm', 'DTI_2x32_36', 'localizer']\n",
      "\n",
      "sub-3103368139\n",
      "Available DICOMS:\n",
      "['DTI_2x32_36', 'DTI_2x32_35', 'bbl1_frac2back1_231', 'bbl1_idemo2_210', 'epi_singlerep', 'MoCoSeries', 'ep2d_se_pcasl_PHC_1200ms', 'MPRAGE_TI1100_ipat2', 'bbl1_restbold1_124', 'B0map_3.0mm', 'localizer']\n",
      "\n",
      "sub-2216595430\n",
      "Available DICOMS:\n",
      "['DTI_2x32_36', 'DTI_2x32_35', 'bbl1_idemo2_210', 'bbl1_frac2back1_231', 'epi_singlerep', 'MoCoSeries', 'ep2d_se_pcasl_PHC_1200ms', 'MPRAGE_TI1100_ipat2', 'bbl1_restbold1_124', 'B0map_3.0mm', 'localizer']\n",
      "\n",
      "sub-1095340536\n",
      "Available DICOMS:\n",
      "['DTI_2x32_36', 'DTI_2x32_35', 'bbl1_idemo2_210', 'bbl1_frac2back1_231', 'epi_singlerep', 'MoCoSeries', 'ep2d_se_pcasl_PHC_1200ms', 'MPRAGE_TI1100_ipat2', 'bbl1_restbold1_124', 'B0map_3.0mm', 'localizer']\n",
      "\n",
      "sub-4066124203\n",
      "Available DICOMS:\n",
      "['DTI_2x32_36', 'DTI_2x32_35', 'bbl1_frac2back1_231', 'bbl1_idemo2_210', 'epi_singlerep', 'MoCoSeries', 'ep2d_se_pcasl_PHC_1200ms', 'MPRAGE_TI1100_ipat2', 'bbl1_restbold1_124', 'B0map_3.0mm', 'localizer']\n",
      "\n",
      "sub-134279804\n",
      "Available DICOMS:\n",
      "['DTI_2x32_36', 'DTI_2x32_35', 'bbl1_frac2back1_231', 'bbl1_idemo2_210', 'epi_singlerep', 'MoCoSeries', 'ep2d_se_pcasl_PHC_1200ms', 'MPRAGE_TI1100_ipat2', 'bbl1_restbold1_124', 'B0map_3.0mm', 'localizer']\n",
      "\n",
      "sub-398131152\n",
      "Available DICOMS:\n",
      "['DTI_2x32_36', 'DTI_2x32_35', 'bbl1_idemo2_210', 'bbl1_frac2back1_231', 'epi_singlerep', 'MoCoSeries', 'ep2d_se_pcasl_PHC_1200ms', 'MPRAGE_TI1100_ipat2', 'bbl1_restbold1_124', 'B0map_3.0mm', 'localizer']\n",
      "\n",
      "sub-1867827374\n",
      "Available DICOMS:\n",
      "['bbl1_idemo2_210', 'bbl1_frac2back1_231', 'epi_singlerep', 'MoCoSeries', 'ep2d_se_pcasl_PHC_1200ms', 'MoCoSeries', 'ep2d_se_pcasl_PHC_1200ms', 'MPRAGE_TI1100_ipat2', 'bbl1_restbold1_124', 'B0map_3.0mm', 'DTI_2x32_36', 'DTI_2x32_35', 'localizer']\n",
      "\n",
      "sub-3520758666\n",
      "Available DICOMS:\n",
      "['DTI_2x32_36', 'DTI_2x32_35', 'bbl1_frac2back1_231', 'bbl1_idemo2_210', 'MoCoSeries', 'ep2d_se_pcasl_PHC_1200ms', 'MPRAGE_TI1100_ipat2', 'epi_singlerep', 'bbl1_restbold1_124', 'B0map_3.0mm', 'localizer']\n",
      "\n",
      "sub-1163553824\n",
      "Available DICOMS:\n",
      "['DTI_2x32_36', 'DTI_2x32_35', 'bbl1_idemo2_210', 'bbl1_frac2back1_231', 'epi_singlerep', 'MoCoSeries', 'ep2d_se_pcasl_PHC_1200ms', 'MPRAGE_TI1100_ipat2', 'bbl1_restbold1_124', 'B0map_3.0mm', 'localizer']\n",
      "\n",
      "sub-1060668554\n",
      "Available DICOMS:\n",
      "['DTI_2x32_36', 'DTI_2x32_35', 'bbl1_frac2back1_231', 'bbl1_idemo2_210', 'epi_singlerep', 'MoCoSeries', 'ep2d_se_pcasl_PHC_1200ms', 'MPRAGE_TI1100_ipat2', 'bbl1_restbold1_124', 'B0map_3.0mm', 'localizer']\n",
      "\n",
      "sub-1682850665\n",
      "Available DICOMS:\n",
      "['DTI_2x32_36', 'DTI_2x32_35', 'bbl1_idemo2_210', 'bbl1_frac2back1_231', 'epi_singlerep', 'MoCoSeries', 'ep2d_se_pcasl_PHC_1200ms', 'MPRAGE_TI1100_ipat2', 'bbl1_restbold1_124', 'B0map_3.0mm', 'localizer']\n",
      "\n",
      "sub-255089519\n",
      "Available DICOMS:\n",
      "['DTI_2x32_35', 'bbl1_frac2back1_231', 'bbl1_idemo2_210', 'bbl1_frac2back1_231', 'epi_singlerep', 'MoCoSeries', 'ep2d_se_pcasl_PHC_1200ms', 'MPRAGE_TI1100_ipat2', 'bbl1_restbold1_124', 'B0map_3.0mm', 'DTI_2x32_36', 'localizer']\n",
      "\n",
      "sub-3260960488\n",
      "Available DICOMS:\n",
      "['localizer', 'bbl1_frac2back1_231', 'epi_singlerep', 'MoCoSeries', 'ep2d_se_pcasl_PHC_1200ms', 'MPRAGE_TI1100_ipat2', 'localizer', 'localizer', 'bbl1_restbold1_124', 'B0map_3.0mm', 'DTI_2x32_36', 'DTI_2x32_35', 'bbl1_idemo2_210', 'bbl1_frac2back1_231', 'localizer']\n",
      "\n",
      "sub-1512248949\n",
      "Available DICOMS:\n",
      "['DTI_bloy2x32_36', 'DTI_bloy2x32_35', 'bbl1_idemo2_210', 'bbl1_go2back_231', 'epi_singlerep', 'MoCoSeries', 'ep2d_se_pcasl_PHC_1200ms', 'MPRAGE_TI1100_ipat2', 'bbl1_restbold1_124', 'B0map_3.0mm', 'localizer']\n",
      "\n"
     ]
    }
   ],
   "source": [
    "# print the series description of dicoms available in each subject's acquisitions\n",
    "\n",
    "for sub in subjects2:\n",
    "    print(subjects_dict[sub.label])\n",
    "    print(\"Available DICOMS:\") \n",
    "    sessions = sub.sessions()\n",
    "    for s in sessions:\n",
    "        acquisitions = s.acquisitions()\n",
    "        \n",
    "        series = []\n",
    "        for acq in acquisitions:\n",
    "            acq = client.get(acq.id)\n",
    "\n",
    "            files = [f for f in acq.files if 'dicom' in f.name]\n",
    "            series.extend([get_nested(f, 'info', 'SeriesDescription') for f in files])\n",
    "        print(series)\n",
    "        print()"
   ]
  },
  {
   "cell_type": "markdown",
   "metadata": {},
   "source": [
    "Indeed, all 17 of these participants only have `B0map_3.0mm`, which is the phasediff file we find, but not magnitude files. Hence, this issue can't be directly \"fixed\", but we must note these subjects.\n",
    "\n",
    "It's worth noting that these are the same subjects with the `MISSING MAGNITUDE` error as well:"
   ]
  },
  {
   "cell_type": "code",
   "execution_count": 9,
   "metadata": {},
   "outputs": [
    {
     "data": {
      "text/plain": [
       "314      sub-255089519\n",
       "449     sub-3260960488\n",
       "499     sub-3520758666\n",
       "968     sub-2441231201\n",
       "1010    sub-3103368139\n",
       "2887    sub-1163553824\n",
       "3146    sub-1060668554\n",
       "3819     sub-398131152\n",
       "4941    sub-1512248949\n",
       "6053    sub-1682850665\n",
       "6116    sub-1867827374\n",
       "6517    sub-1095340536\n",
       "6738     sub-134279804\n",
       "7144    sub-2216595430\n",
       "7395    sub-3925705705\n",
       "7417    sub-4066124203\n",
       "7551     sub-458296344\n",
       "Name: subject, dtype: object"
      ]
     },
     "execution_count": 9,
     "metadata": {},
     "output_type": "execute_result"
    }
   ],
   "source": [
    "missing_mag = df.loc[df['code'] == 92,]\n",
    "missing_mag.subject"
   ]
  },
  {
   "cell_type": "code",
   "execution_count": 10,
   "metadata": {},
   "outputs": [
    {
     "data": {
      "text/plain": [
       "317      sub-255089519\n",
       "452     sub-3260960488\n",
       "502     sub-3520758666\n",
       "971     sub-2441231201\n",
       "1013    sub-3103368139\n",
       "2890    sub-1163553824\n",
       "3149    sub-1060668554\n",
       "3822     sub-398131152\n",
       "4944    sub-1512248949\n",
       "6056    sub-1682850665\n",
       "6119    sub-1867827374\n",
       "6520    sub-1095340536\n",
       "6741     sub-134279804\n",
       "7147    sub-2216595430\n",
       "7398    sub-3925705705\n",
       "7420    sub-4066124203\n",
       "7554     sub-458296344\n",
       "Name: subject, dtype: object"
      ]
     },
     "execution_count": 10,
     "metadata": {},
     "output_type": "execute_result"
    }
   ],
   "source": [
    "echotimes_rows.subject"
   ]
  },
  {
   "cell_type": "code",
   "execution_count": 15,
   "metadata": {},
   "outputs": [
    {
     "data": {
      "text/plain": [
       "set()"
      ]
     },
     "execution_count": 15,
     "metadata": {},
     "output_type": "execute_result"
    }
   ],
   "source": [
    "set(missing_mag.subject) - set(echotimes_rows.subject)"
   ]
  },
  {
   "cell_type": "code",
   "execution_count": 16,
   "metadata": {},
   "outputs": [
    {
     "data": {
      "text/plain": [
       "set()"
      ]
     },
     "execution_count": 16,
     "metadata": {},
     "output_type": "execute_result"
    }
   ],
   "source": [
    "set(echotimes_rows.subject) - set(missing_mag.subject)"
   ]
  },
  {
   "cell_type": "code",
   "execution_count": null,
   "metadata": {},
   "outputs": [],
   "source": []
  }
 ],
 "metadata": {
  "kernelspec": {
   "display_name": "Python 3",
   "language": "python",
   "name": "python3"
  },
  "language_info": {
   "codemirror_mode": {
    "name": "ipython",
    "version": 3
   },
   "file_extension": ".py",
   "mimetype": "text/x-python",
   "name": "python",
   "nbconvert_exporter": "python",
   "pygments_lexer": "ipython3",
   "version": "3.7.5"
  }
 },
 "nbformat": 4,
 "nbformat_minor": 4
}
