{
 "cells": [
  {
   "cell_type": "markdown",
   "metadata": {},
   "source": [
    "# Fixing MISSING DWI\n",
    "\n",
    "In this section we verify that the subjects with the `DWI_MISSING_BVAL` errors are in fact missing data. Because these subjects were copied from PNC we will verify in that project that there are no `BVAL`s and `BVEC`s available"
   ]
  },
  {
   "cell_type": "code",
   "execution_count": 1,
   "metadata": {},
   "outputs": [
    {
     "name": "stderr",
     "output_type": "stream",
     "text": [
      "/home/ttapera/miniconda3/envs/flywheel/lib/python3.7/site-packages/fw_heudiconv/backend_funcs/query.py:4: UserWarning: The DICOM readers are highly experimental, unstable, and only work for Siemens time-series at the moment\n",
      "Please use with caution.  We would be grateful for your help in improving them\n",
      "  from nibabel.nicom.dicomwrappers import wrapper_from_data\n"
     ]
    },
    {
     "name": "stdout",
     "output_type": "stream",
     "text": [
      "200910-18:52:13,328 nipype.utils INFO:\n",
      "\t Running nipype version 1.4.0 (latest: 1.5.0)\n"
     ]
    },
    {
     "name": "stderr",
     "output_type": "stream",
     "text": [
      "INFO: Running nipype version 1.4.0 (latest: 1.5.0)\n"
     ]
    }
   ],
   "source": [
    "import flywheel\n",
    "import pandas as pd\n",
    "from fw_heudiconv.cli.export import get_nested\n",
    "\n",
    "client = flywheel.Client()"
   ]
  },
  {
   "cell_type": "code",
   "execution_count": 2,
   "metadata": {},
   "outputs": [],
   "source": [
    "df = pd.read_csv('/storage/ttapera/RBC/PennLINC/Validation/PNC/validation.csv')\n",
    "echotimes_rows = df.loc[df['code'] == 33,]"
   ]
  },
  {
   "cell_type": "code",
   "execution_count": 3,
   "metadata": {},
   "outputs": [
    {
     "data": {
      "text/plain": [
       "5036    sub-3392035756\n",
       "Name: subject, dtype: object"
      ]
     },
     "execution_count": 3,
     "metadata": {},
     "output_type": "execute_result"
    }
   ],
   "source": [
    "echotimes_rows.subject"
   ]
  },
  {
   "cell_type": "markdown",
   "metadata": {},
   "source": [
    "We're going to confirm that these cases are all problematic because they have no fieldmaps to begin with in the PNC project:"
   ]
  },
  {
   "cell_type": "code",
   "execution_count": 4,
   "metadata": {},
   "outputs": [],
   "source": [
    "# get the subject ids <-> bblids\n",
    "\n",
    "rbc_subjects = list(echotimes_rows.subject)\n",
    "df2 = pd.read_csv('/storage/ttapera/RBC/data/bblids_3.csv', names=['bblid', 'hash', 'fullid', 'process'])\n",
    "\n",
    "pnc_subjects = df2[df2['fullid'].isin(rbc_subjects)]\n",
    "pnc_subjects = [str(i) for i in list(pnc_subjects.bblid)]"
   ]
  },
  {
   "cell_type": "code",
   "execution_count": 5,
   "metadata": {},
   "outputs": [],
   "source": [
    "# do some flywheel stuff\n",
    "\n",
    "pnc_proj = client.projects.find_first('label=PNC_CS_810336')\n",
    "subjects = pnc_proj.subjects()\n",
    "subjects2 = [sub for sub in subjects if sub.label in pnc_subjects]"
   ]
  },
  {
   "cell_type": "code",
   "execution_count": 6,
   "metadata": {},
   "outputs": [],
   "source": [
    "subjects_dict = dict(zip(pnc_subjects, rbc_subjects))"
   ]
  },
  {
   "cell_type": "code",
   "execution_count": 9,
   "metadata": {},
   "outputs": [
    {
     "name": "stdout",
     "output_type": "stream",
     "text": [
      "9\n",
      "Available Files\n",
      "['STIM_catalog.xml', 'ASSOCIATED_catalog.xml', '9.dicom.zip', 'DTI_2x32_36_9.nii.gz']\n",
      "\n",
      "8\n",
      "Available Files\n",
      "['ASSOCIATED_catalog.xml', 'STIM_catalog.xml', '8.dicom.zip', 'DTI_2x32_35_8.nii.gz', 'DTI_2x32_35_8.bvec', 'DTI_2x32_35_8.bval']\n",
      "\n",
      "7\n",
      "Available Files\n",
      "['STIM_catalog.xml', 'frac2back', 'ASSOCIATED_catalog.xml', '7.dicom.zip', 'bbl1_frac2back1_231_7.nii.gz']\n",
      "\n",
      "6\n",
      "Available Files\n",
      "['STIM_catalog.xml', 'idemo', 'ASSOCIATED_catalog.xml', '6.dicom.zip', 'bbl1_idemo2_210_6.nii.gz']\n",
      "\n",
      "5\n",
      "Available Files\n",
      "['STIM_catalog.xml', 'ASSOCIATED_catalog.xml', '5.dicom.zip', 'epi_singlerep_advshim_5.nii.gz']\n",
      "\n",
      "41\n",
      "Available Files\n",
      "['PRESENTATION_catalog.xml', '02923-frac2b_1.00.log']\n",
      "\n",
      "4\n",
      "Available Files\n",
      "['STIM_catalog.xml', 'ASSOCIATED_catalog.xml', '4.dicom.zip', 'ep2d_se_pcasl_PHC_1200ms_4.nii.gz']\n",
      "\n",
      "37\n",
      "Available Files\n",
      "['02923-idemo2.10.log', 'PRESENTATION_catalog.xml']\n",
      "\n",
      "3\n",
      "Available Files\n",
      "['STIM_catalog.xml', 'ASSOCIATED_catalog.xml', '3.dicom.zip', 'ep2d_se_pcasl_PHC_1200ms_3.nii.gz']\n",
      "\n",
      "2\n",
      "Available Files\n",
      "['ASSOCIATED_catalog.xml', 'STIM_catalog.xml', '2.dicom.zip', 'MPRAGE_TI1100_ipat2_2.nii.gz']\n",
      "\n",
      "1\n",
      "Available Files\n",
      "['ASSOCIATED_catalog.xml', 'STIM_catalog.xml', '1.dicom.zip', 'localizer_1_i00003.nii.gz', 'localizer_1_i00002.nii.gz', 'localizer_1_i00001.nii.gz']\n",
      "\n"
     ]
    }
   ],
   "source": [
    "subject = subjects2[0]\n",
    "\n",
    "session = subject.sessions()[0]\n",
    "\n",
    "acquisitions = session.acquisitions()\n",
    "\n",
    "for acq in acquisitions:\n",
    "    acq = client.get(acq.id)\n",
    "    print(acq.label)\n",
    "    print(\"Available Files\")\n",
    "    print([x.name for x in acq.files])\n",
    "    print()"
   ]
  },
  {
   "cell_type": "markdown",
   "metadata": {},
   "source": [
    "Acquisition 9 is the offensive acquisition. We can see that there is a DWI but there is no accompanying BVAL & BVEC. Running `dcm2niix v1.0.20190902` on the file outputs only the NIfTI file."
   ]
  }
 ],
 "metadata": {
  "kernelspec": {
   "display_name": "Python 3",
   "language": "python",
   "name": "python3"
  },
  "language_info": {
   "codemirror_mode": {
    "name": "ipython",
    "version": 3
   },
   "file_extension": ".py",
   "mimetype": "text/x-python",
   "name": "python",
   "nbconvert_exporter": "python",
   "pygments_lexer": "ipython3",
   "version": "3.7.5"
  }
 },
 "nbformat": 4,
 "nbformat_minor": 4
}
