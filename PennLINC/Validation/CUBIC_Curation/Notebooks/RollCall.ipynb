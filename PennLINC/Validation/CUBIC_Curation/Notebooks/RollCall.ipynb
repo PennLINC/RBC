{
 "cells": [
  {
   "cell_type": "markdown",
   "metadata": {},
   "source": [
    "# Subject Roll Call\n",
    "\n",
    "The first important check is that all subjects from Flywheel got downloaded onto CUBIC"
   ]
  },
  {
   "cell_type": "code",
   "execution_count": 55,
   "metadata": {},
   "outputs": [],
   "source": [
    "import glob\n",
    "\n",
    "bids = '/cbica/projects/RBC/flywheel_curation/RBC/data/bids_datasets/RBC_*/*'\n",
    "subjects = glob.glob(bids)\n",
    "subjects_on_disk = [x.split('/')[-1] for x in subjects]"
   ]
  },
  {
   "cell_type": "code",
   "execution_count": 56,
   "metadata": {},
   "outputs": [],
   "source": [
    "with open('/cbica/projects/RBC/flywheel_curation/RBC/PennLINC/Validation/HBN/hbn_subjects2.txt', 'r') as read_file:\n",
    "        data = read_file.read()\n",
    "        \n",
    "hbn_subjects = data.split('\\n')\n",
    "hbn_subjects = list(filter(None, hbn_subjects))\n",
    "\n",
    "with open('/cbica/projects/RBC/flywheel_curation/RBC/PennLINC/Validation/NKI/nki_subjects2.txt', 'r') as read_file:\n",
    "        data = read_file.read()\n",
    "        \n",
    "nki_subjects = data.split('\\n')\n",
    "nki_subjects = list(filter(None, nki_subjects))\n",
    "\n",
    "with open('/cbica/projects/RBC/flywheel_curation/RBC/PennLINC/Validation/PNC/pnc_subjects.txt', 'r') as read_file:\n",
    "        data = read_file.read()\n",
    "        \n",
    "pnc_subjects = data.split('\\n')\n",
    "pnc_subjects = list(filter(None, pnc_subjects))"
   ]
  },
  {
   "cell_type": "markdown",
   "metadata": {},
   "source": [
    "PNC:"
   ]
  },
  {
   "cell_type": "code",
   "execution_count": 57,
   "metadata": {},
   "outputs": [],
   "source": [
    "for i, x in enumerate(pnc_subjects):\n",
    "    if x not in subjects_on_disk:\n",
    "        print('Subject', x, 'not found')"
   ]
  },
  {
   "cell_type": "markdown",
   "metadata": {},
   "source": [
    "NKI:"
   ]
  },
  {
   "cell_type": "code",
   "execution_count": 58,
   "metadata": {},
   "outputs": [],
   "source": [
    "for i, x in enumerate(nki_subjects):\n",
    "    if x not in subjects_on_disk:\n",
    "        print('Subject', x, 'not found')"
   ]
  },
  {
   "cell_type": "markdown",
   "metadata": {},
   "source": [
    "HBN"
   ]
  },
  {
   "cell_type": "code",
   "execution_count": 59,
   "metadata": {},
   "outputs": [],
   "source": [
    "missing = []\n",
    "for i, x in enumerate(hbn_subjects):\n",
    "    if x not in subjects_on_disk:\n",
    "        print('Subject', x, 'not found')\n",
    "        missing.append(x)"
   ]
  },
  {
   "cell_type": "markdown",
   "metadata": {},
   "source": [
    "All data present"
   ]
  },
  {
   "cell_type": "code",
   "execution_count": null,
   "metadata": {},
   "outputs": [],
   "source": []
  }
 ],
 "metadata": {
  "kernelspec": {
   "display_name": "Python 3",
   "language": "python",
   "name": "python3"
  },
  "language_info": {
   "codemirror_mode": {
    "name": "ipython",
    "version": 3
   },
   "file_extension": ".py",
   "mimetype": "text/x-python",
   "name": "python",
   "nbconvert_exporter": "python",
   "pygments_lexer": "ipython3",
   "version": "3.8.5"
  }
 },
 "nbformat": 4,
 "nbformat_minor": 4
}
