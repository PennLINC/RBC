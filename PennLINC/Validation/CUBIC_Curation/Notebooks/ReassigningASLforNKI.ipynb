{
 "cells": [
  {
   "cell_type": "markdown",
   "metadata": {},
   "source": [
    "# Moving Task-ASL to the Perf Folder for NKI\n",
    "\n",
    "In this notebook we'll move over the NKI data from task-asl to perf as per BIDS standard and also create the associated aslcontext files.\n",
    "\n",
    "Note the additional sidecar fields:\n",
    "\n",
    "```\n",
    "{\n",
    "  \"PulseSequenceType\": \"2D\", \n",
    "  \"PulseSequenceDetails\" : \"SIN\" ,\n",
    "  \"LabelingType\": \"PCASL\",\n",
    "  \"LabelingDuration\": 1.00,\n",
    "  \"PostLabelingDelay\": 1.517,\n",
    "  \"BackgroundSuppression\": \"Yes\",\n",
    "  \"M0\":\"False\",\n",
    "  \"LabelingSlabLocation\":\"X\",\n",
    "  \"LabelingOrientation\":\"\",\n",
    "  \"LabelingDistance\":2,\n",
    "  \"AverageLabelingGradient\": 34,\n",
    "  \"SliceSelectiveLabelingGradient\":45,\n",
    "  \"AverageB1LabelingPulses\": 0,\n",
    "  \"LabelingSlabThickness\":2,\n",
    "  \"AcquisitionDuration\":123,\n",
    "  \"InterPulseSpacing\":4,\n",
    "  \"PCASLType\":\"balanced\",\n",
    "  \"PASLType\": \"\",\n",
    "  \"LookLocker\":\"True\",\n",
    "  \"LabelingEfficiency\":0.72,\n",
    "  \"BolusCutOffFlag\":\"False\",\n",
    "  \"BolusCutOffTimingSequence\":\"False\",\n",
    "  \"BolusCutOffDelayTime\":0,\n",
    "  \"BolusCutOffTechnique\":\"False\"\n",
    "}\n",
    "\n",
    "label-control\n",
    "```\n",
    "\n",
    "First, get all of the files that could be ASL."
   ]
  },
  {
   "cell_type": "code",
   "execution_count": 89,
   "metadata": {},
   "outputs": [],
   "source": [
    "import glob\n",
    "\n",
    "json_sidecars = []\n",
    "niftis = []\n",
    "root_dir = '/cbica/projects/RBC/RBC_RAWDATA/bidsdatasets/NKI/'\n",
    "\n",
    "for filename in glob.iglob(root_dir + '**/**', recursive=True):\n",
    "    \n",
    "    if filename.endswith('.nii.gz') and 'physio' not in filename:\n",
    "        niftis.append(filename)\n",
    "    else:\n",
    "        if 'dataset_description' in filename:\n",
    "            continue\n",
    "        elif filename.endswith('.json') and 'physio' not in filename:\n",
    "            json_sidecars.append(filename)"
   ]
  },
  {
   "cell_type": "code",
   "execution_count": 90,
   "metadata": {},
   "outputs": [
    {
     "name": "stdout",
     "output_type": "stream",
     "text": [
      "76408\n",
      "75612\n"
     ]
    }
   ],
   "source": [
    "print(len(niftis))\n",
    "print(len(json_sidecars))"
   ]
  },
  {
   "cell_type": "code",
   "execution_count": 91,
   "metadata": {},
   "outputs": [],
   "source": [
    "asl = [x for x in niftis if 'asl' in x.lower()]"
   ]
  },
  {
   "cell_type": "code",
   "execution_count": 92,
   "metadata": {},
   "outputs": [
    {
     "data": {
      "text/plain": [
       "6856"
      ]
     },
     "execution_count": 92,
     "metadata": {},
     "output_type": "execute_result"
    }
   ],
   "source": [
    "len(asl)"
   ]
  },
  {
   "cell_type": "code",
   "execution_count": 93,
   "metadata": {},
   "outputs": [
    {
     "data": {
      "text/plain": [
       "True"
      ]
     },
     "execution_count": 93,
     "metadata": {},
     "output_type": "execute_result"
    }
   ],
   "source": [
    "all(['task-pCASL' in x for x in asl])"
   ]
  },
  {
   "cell_type": "code",
   "execution_count": 252,
   "metadata": {},
   "outputs": [],
   "source": [
    "import re\n",
    "import json\n",
    "import os\n",
    "import shutil\n",
    "\n",
    "class ASL:\n",
    "    \n",
    "    def __init__(self, full_path):\n",
    "        \n",
    "        def parse(fname, regex):\n",
    "            \n",
    "            if (match := re.search(regex, fname)) is not None:\n",
    "                return match.group(0)\n",
    "            else:\n",
    "                return None\n",
    "        \n",
    "        self.old = full_path\n",
    "        self.subject = parse(full_path, r'(sub-[a-zA-Z0-9]+)')\n",
    "        self.session = parse(full_path, r'(ses-[a-zA-Z0-9]+)')\n",
    "        self.fname = full_path.split('/')[-1]\n",
    "        self.path = full_path.replace(self.fname, '')\n",
    "        self.folder = full_path.split('/')[-2]\n",
    "        self.is_json = False\n",
    "        self.json = None\n",
    "        self.is_nifti = False\n",
    "        self.context = None\n",
    "        self.is_events = False\n",
    "        self.is_physio = False\n",
    "        \n",
    "        if full_path.endswith('json'):\n",
    "            \n",
    "            with open(full_path, 'r') as f:\n",
    "                self.json = json.load(f)\n",
    "            self.is_json = True\n",
    "            \n",
    "        elif full_path.endswith('events.tsv'):\n",
    "            self.is_events = True\n",
    "\n",
    "        elif full_path.endswith('physio.tsv.gz'):\n",
    "            self.is_physio = True\n",
    "\n",
    "        else:\n",
    "            self.is_nifti = True\n",
    "        \n",
    "    def convert(self):\n",
    "        \n",
    "        new_data = {        \n",
    "            \"PulseSequenceType\": \"2D\", \n",
    "            \"PulseSequenceDetails\" : \"SIN\" ,\n",
    "            \"LabelingType\": \"PCASL\",\n",
    "            \"LabelingDuration\": 1.00,\n",
    "            \"PostLabelingDelay\": 1.517,\n",
    "            \"BackgroundSuppression\": \"Yes\",\n",
    "            \"M0\":\"False\",\n",
    "            \"LabelingSlabLocation\":\"X\",\n",
    "            \"LabelingOrientation\":\"\",\n",
    "            \"LabelingDistance\":2,\n",
    "            \"AverageLabelingGradient\": 34,\n",
    "            \"SliceSelectiveLabelingGradient\":45,\n",
    "            \"AverageB1LabelingPulses\": 0,\n",
    "            \"LabelingSlabThickness\":2,\n",
    "            \"AcquisitionDuration\":123,\n",
    "            \"InterPulseSpacing\":4,\n",
    "            \"PCASLType\":\"balanced\",\n",
    "            \"PASLType\": \"\",\n",
    "            \"LookLocker\":\"True\",\n",
    "            \"LabelingEfficiency\":0.72,\n",
    "            \"BolusCutOffFlag\":\"False\",\n",
    "            \"BolusCutOffTimingSequence\":\"False\",\n",
    "            \"BolusCutOffDelayTime\":0,\n",
    "            \"BolusCutOffTechnique\":\"False\"\n",
    "        }\n",
    "        \n",
    "        if self.fname is None:\n",
    "            raise ValueError\n",
    "        \n",
    "        fname = self.fname.replace('_bold', '_asl').replace('_task-pCASL', '')\n",
    "        \n",
    "        self.fname = fname\n",
    "        \n",
    "        self.folder = 'perf'\n",
    "        \n",
    "        self.path = self.path.replace('func', 'perf')\n",
    "        \n",
    "        if self.json:\n",
    "            \n",
    "            self.json.update(new_data)\n",
    "            \n",
    "        if self.is_nifti:\n",
    "            \n",
    "            self.context = '/n'.join(['label', 'control'] * 40)\n",
    "            \n",
    "    \n",
    "    def write(self, dry_run=True):\n",
    "        \n",
    "        print('Writing data...')\n",
    "        \n",
    "        \n",
    "        if not dry_run:\n",
    "            \n",
    "            os.makedirs(self.path, exist_ok = True)\n",
    "        \n",
    "        if self.is_json:\n",
    "            \n",
    "            \n",
    "            \n",
    "            if not dry_run:\n",
    "                \n",
    "                print('writing new json file')\n",
    "\n",
    "                with open(self.full_path(), 'w', encoding='utf-8') as f:\n",
    "                    json.dump(self.json, f, ensure_ascii=False, indent=4)\n",
    "            \n",
    "                print('removing old json file')\n",
    "                \n",
    "                os.remove(self.old)\n",
    "            \n",
    "                \n",
    "        \n",
    "        elif self.is_nifti:\n",
    "            \n",
    "            if not dry_run:\n",
    "                \n",
    "                print('moving nifti')\n",
    "                \n",
    "                shutil.move(self.old, self.full_path())\n",
    "                #os.remove(self.old)\n",
    "                \n",
    "                print('writing context file')\n",
    "                \n",
    "                with open(self.full_path().replace('asl.nii.gz', 'aslcontext.tsv'), 'w') as outfile:\n",
    "                    outfile.write(self.context)\n",
    "            \n",
    "        elif self.is_events or self.is_physio:\n",
    "            \n",
    "            if not dry_run:\n",
    "                \n",
    "                print('moving events file')\n",
    "                \n",
    "                shutil.move(self.old, self.full_path())\n",
    "\n",
    "    def full_path(self):\n",
    "        \n",
    "        return self.path + self.fname\n",
    "\n",
    "    def __str__(self):\n",
    "        \n",
    "        return self.path + self.fname"
   ]
  },
  {
   "cell_type": "code",
   "execution_count": 223,
   "metadata": {},
   "outputs": [],
   "source": [
    "import json\n",
    "myasl= ASL('/cbica/projects/RBC/RBC_RAWDATA/bidsdatasets/NKI/sub-A00034350/ses-TRT/func/sub-A00034350_ses-TRT_task-pCASL_events.tsv')"
   ]
  },
  {
   "cell_type": "code",
   "execution_count": 224,
   "metadata": {},
   "outputs": [
    {
     "name": "stdout",
     "output_type": "stream",
     "text": [
      "/cbica/projects/RBC/RBC_RAWDATA/bidsdatasets/NKI/sub-A00034350/ses-TRT/func/sub-A00034350_ses-TRT_task-pCASL_events.tsv\n",
      "sub-A00034350_ses-TRT_task-pCASL_events.tsv\n",
      "sub-A00034350_ses-TRT_events.tsv\n",
      "/cbica/projects/RBC/RBC_RAWDATA/bidsdatasets/NKI/sub-A00034350/ses-TRT/perf/sub-A00034350_ses-TRT_events.tsv\n"
     ]
    }
   ],
   "source": [
    "print(myasl)\n",
    "print(myasl.fname)\n",
    "myasl.convert()\n",
    "print(myasl.fname)\n",
    "print(myasl)"
   ]
  },
  {
   "cell_type": "code",
   "execution_count": 225,
   "metadata": {},
   "outputs": [
    {
     "name": "stdout",
     "output_type": "stream",
     "text": [
      "Writing data...\n",
      "moving events file\n"
     ]
    }
   ],
   "source": [
    "myasl.write(dry_run=False)"
   ]
  },
  {
   "cell_type": "markdown",
   "metadata": {},
   "source": [
    "Now loop through all"
   ]
  },
  {
   "cell_type": "code",
   "execution_count": 238,
   "metadata": {},
   "outputs": [],
   "source": [
    "pcasl = []\n",
    "\n",
    "root_dir = '/cbica/projects/RBC/RBC_RAWDATA/bidsdatasets/NKI/'\n",
    "\n",
    "for filename in glob.iglob(root_dir + '**/**', recursive=True):\n",
    "    \n",
    "    if 'pCASL' in filename and 'physio' not in filename:\n",
    "        pcasl.append(filename)"
   ]
  },
  {
   "cell_type": "code",
   "execution_count": 239,
   "metadata": {},
   "outputs": [
    {
     "data": {
      "text/plain": [
       "['/cbica/projects/RBC/RBC_RAWDATA/bidsdatasets/NKI/sub-A00034350/ses-FLU1/func/sub-A00034350_ses-FLU1_task-pCASL_bold.json',\n",
       " '/cbica/projects/RBC/RBC_RAWDATA/bidsdatasets/NKI/sub-A00063003/ses-TRT/func/sub-A00063003_ses-TRT_task-pCASL_bold.json',\n",
       " '/cbica/projects/RBC/RBC_RAWDATA/bidsdatasets/NKI/sub-A00063003/ses-BAS1/func/sub-A00063003_ses-BAS1_task-pCASL_bold.json',\n",
       " '/cbica/projects/RBC/RBC_RAWDATA/bidsdatasets/NKI/sub-A00063003/ses-FLU1/func/sub-A00063003_ses-FLU1_task-pCASL_bold.json',\n",
       " '/cbica/projects/RBC/RBC_RAWDATA/bidsdatasets/NKI/sub-A00052319/ses-BAS1/func/sub-A00052319_ses-BAS1_task-pCASL_bold.json',\n",
       " '/cbica/projects/RBC/RBC_RAWDATA/bidsdatasets/NKI/sub-A00074769/ses-BAS1/func/sub-A00074769_ses-BAS1_task-pCASL_bold.json',\n",
       " '/cbica/projects/RBC/RBC_RAWDATA/bidsdatasets/NKI/sub-A00074769/ses-FLU1/func/sub-A00074769_ses-FLU1_task-pCASL_bold.json',\n",
       " '/cbica/projects/RBC/RBC_RAWDATA/bidsdatasets/NKI/sub-A00075674/ses-BAS1/func/sub-A00075674_ses-BAS1_task-pCASL_bold.json',\n",
       " '/cbica/projects/RBC/RBC_RAWDATA/bidsdatasets/NKI/sub-A00064081/ses-BAS1/func/sub-A00064081_ses-BAS1_task-pCASL_bold.json',\n",
       " '/cbica/projects/RBC/RBC_RAWDATA/bidsdatasets/NKI/sub-A00064081/ses-FLU2/func/sub-A00064081_ses-FLU2_task-pCASL_bold.json',\n",
       " '/cbica/projects/RBC/RBC_RAWDATA/bidsdatasets/NKI/sub-A00064081/ses-FLU1/func/sub-A00064081_ses-FLU1_task-pCASL_bold.json',\n",
       " '/cbica/projects/RBC/RBC_RAWDATA/bidsdatasets/NKI/sub-A00073677/ses-BAS1/func/sub-A00073677_ses-BAS1_task-pCASL_events.tsv',\n",
       " '/cbica/projects/RBC/RBC_RAWDATA/bidsdatasets/NKI/sub-A00073677/ses-BAS1/func/sub-A00073677_ses-BAS1_task-pCASL_bold.json',\n",
       " '/cbica/projects/RBC/RBC_RAWDATA/bidsdatasets/NKI/sub-A00073677/ses-BAS1/func/sub-A00073677_ses-BAS1_task-pCASL_bold.nii.gz',\n",
       " '/cbica/projects/RBC/RBC_RAWDATA/bidsdatasets/NKI/sub-A00073677/ses-FLU2/func/sub-A00073677_ses-FLU2_task-pCASL_bold.json',\n",
       " '/cbica/projects/RBC/RBC_RAWDATA/bidsdatasets/NKI/sub-A00073677/ses-FLU2/func/sub-A00073677_ses-FLU2_task-pCASL_events.tsv',\n",
       " '/cbica/projects/RBC/RBC_RAWDATA/bidsdatasets/NKI/sub-A00073677/ses-FLU2/func/sub-A00073677_ses-FLU2_task-pCASL_bold.nii.gz',\n",
       " '/cbica/projects/RBC/RBC_RAWDATA/bidsdatasets/NKI/sub-A00073677/ses-FLU1/func/sub-A00073677_ses-FLU1_task-pCASL_bold.json',\n",
       " '/cbica/projects/RBC/RBC_RAWDATA/bidsdatasets/NKI/sub-A00073677/ses-FLU1/func/sub-A00073677_ses-FLU1_task-pCASL_events.tsv',\n",
       " '/cbica/projects/RBC/RBC_RAWDATA/bidsdatasets/NKI/sub-A00073677/ses-FLU1/func/sub-A00073677_ses-FLU1_task-pCASL_bold.nii.gz']"
      ]
     },
     "execution_count": 239,
     "metadata": {},
     "output_type": "execute_result"
    }
   ],
   "source": [
    "pcasl[:20]"
   ]
  },
  {
   "cell_type": "code",
   "execution_count": null,
   "metadata": {},
   "outputs": [],
   "source": [
    "for f in pcasl[:20]:\n",
    "    \n",
    "    myasl = ASL(f)\n",
    "    print(myasl)\n",
    "    myasl.convert()\n",
    "    print(myasl)\n",
    "    \n",
    "    myasl.write(dry_run=False)"
   ]
  },
  {
   "cell_type": "code",
   "execution_count": 250,
   "metadata": {},
   "outputs": [],
   "source": [
    "pcasl = []\n",
    "\n",
    "root_dir = '/cbica/projects/RBC/RBC_RAWDATA/bidsdatasets/NKI/'\n",
    "\n",
    "for filename in glob.iglob(root_dir + '**/**', recursive=True):\n",
    "    \n",
    "    if 'pCASL' in filename and 'physio' not in filename:\n",
    "        pcasl.append(filename)"
   ]
  },
  {
   "cell_type": "code",
   "execution_count": null,
   "metadata": {},
   "outputs": [],
   "source": [
    "for f in pcasl:\n",
    "    \n",
    "    myasl = ASL(f)\n",
    "    print(myasl)\n",
    "    myasl.convert()\n",
    "    print(myasl)\n",
    "    \n",
    "    myasl.write(dry_run=False)"
   ]
  },
  {
   "cell_type": "code",
   "execution_count": null,
   "metadata": {},
   "outputs": [],
   "source": [
    "pcasl = []\n",
    "\n",
    "root_dir = '/cbica/projects/RBC/RBC_RAWDATA/bidsdatasets/NKI/'\n",
    "\n",
    "for filename in glob.iglob(root_dir + '**/**', recursive=True):\n",
    "    \n",
    "    if 'pCASL' in filename and 'physio' not in filename:\n",
    "        pcasl.append(filename)"
   ]
  },
  {
   "cell_type": "code",
   "execution_count": 251,
   "metadata": {},
   "outputs": [
    {
     "data": {
      "text/plain": [
       "0"
      ]
     },
     "execution_count": 251,
     "metadata": {},
     "output_type": "execute_result"
    }
   ],
   "source": [
    "len(pcasl)"
   ]
  },
  {
   "cell_type": "markdown",
   "metadata": {},
   "source": [
    "Done!!\n",
    "\n",
    "Addendum: adding physio files:"
   ]
  },
  {
   "cell_type": "code",
   "execution_count": 256,
   "metadata": {},
   "outputs": [],
   "source": [
    "pcasl = []\n",
    "\n",
    "root_dir = '/cbica/projects/RBC/RBC_RAWDATA/bidsdatasets/NKI/'\n",
    "\n",
    "for filename in glob.iglob(root_dir + '**/**', recursive=True):\n",
    "    \n",
    "    if 'pCASL' in filename and 'physio' in filename:\n",
    "        pcasl.append(filename)"
   ]
  },
  {
   "cell_type": "code",
   "execution_count": null,
   "metadata": {},
   "outputs": [],
   "source": [
    "for f in pcasl:\n",
    "    \n",
    "    myasl = ASL(f)\n",
    "    print(myasl)\n",
    "    myasl.convert()\n",
    "    print(myasl)\n",
    "    \n",
    "    myasl.write(dry_run=False)"
   ]
  },
  {
   "cell_type": "code",
   "execution_count": 257,
   "metadata": {},
   "outputs": [
    {
     "data": {
      "text/plain": [
       "0"
      ]
     },
     "execution_count": 257,
     "metadata": {},
     "output_type": "execute_result"
    }
   ],
   "source": [
    "len(pcasl)"
   ]
  },
  {
   "cell_type": "markdown",
   "metadata": {},
   "source": [
    "Addendum: fixing slashes (I wrote them backwards)"
   ]
  },
  {
   "cell_type": "code",
   "execution_count": 258,
   "metadata": {},
   "outputs": [],
   "source": [
    "pcasl = []\n",
    "\n",
    "root_dir = '/cbica/projects/RBC/RBC_RAWDATA/bidsdatasets/NKI/'\n",
    "\n",
    "for filename in glob.iglob(root_dir + '**/**', recursive=True):\n",
    "    \n",
    "    if 'aslcontext' in filename:\n",
    "        pcasl.append(filename)"
   ]
  },
  {
   "cell_type": "code",
   "execution_count": 259,
   "metadata": {},
   "outputs": [
    {
     "data": {
      "text/plain": [
       "'/cbica/projects/RBC/RBC_RAWDATA/bidsdatasets/NKI/sub-A00034350/ses-TRT/perf/sub-A00034350_ses-TRT_aslcontext.tsv'"
      ]
     },
     "execution_count": 259,
     "metadata": {},
     "output_type": "execute_result"
    }
   ],
   "source": [
    "pcasl[0]"
   ]
  },
  {
   "cell_type": "code",
   "execution_count": 260,
   "metadata": {},
   "outputs": [],
   "source": [
    "with open(pcasl[0], \"r\") as f:\n",
    "    data = f.read()\n",
    "\n",
    "with open(pcasl[0], \"w\") as f:\n",
    "    f.write(re.sub(r\"/n\", r\"\\n\", data))\n"
   ]
  },
  {
   "cell_type": "code",
   "execution_count": 261,
   "metadata": {},
   "outputs": [],
   "source": [
    "for fi in pcasl:\n",
    "    with open(fi, \"r\") as f:\n",
    "        data = f.read()\n",
    "\n",
    "    with open(fi, \"w\") as f:\n",
    "        f.write(re.sub(r\"/n\", r\"\\n\", data))\n",
    "    "
   ]
  },
  {
   "cell_type": "code",
   "execution_count": null,
   "metadata": {},
   "outputs": [],
   "source": []
  }
 ],
 "metadata": {
  "kernelspec": {
   "display_name": "Python 3",
   "language": "python",
   "name": "python3"
  },
  "language_info": {
   "codemirror_mode": {
    "name": "ipython",
    "version": 3
   },
   "file_extension": ".py",
   "mimetype": "text/x-python",
   "name": "python",
   "nbconvert_exporter": "python",
   "pygments_lexer": "ipython3",
   "version": "3.8.6"
  }
 },
 "nbformat": 4,
 "nbformat_minor": 4
}
