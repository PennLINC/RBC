{
 "cells": [
  {
   "cell_type": "markdown",
   "metadata": {},
   "source": [
    "# Testing the validator\n",
    "\n",
    "We noticed that perhaps new files are having their data removed/the validator is not reporting all of the files that have data missing. We'll test that here:"
   ]
  },
  {
   "cell_type": "code",
   "execution_count": 1,
   "metadata": {},
   "outputs": [
    {
     "name": "stdout",
     "output_type": "stream",
     "text": [
      "/cbica/projects/RBC/RBC_RAWDATA/bidsdatasets/NKI/sub-A00064328/ses-FLU3/func/sub-A00064328_ses-FLU3_task-CHECKERBOARD_acq-1400_events.tsv\n",
      "/cbica/projects/RBC/RBC_RAWDATA/bidsdatasets/NKI/sub-A00064418/ses-TRT/func/sub-A00064418_ses-TRT_task-rest_acq-645_events.tsv\n",
      "/cbica/projects/RBC/RBC_RAWDATA/bidsdatasets/NKI/sub-A00062353/ses-TRT/func/sub-A00062353_ses-TRT_task-BREATHHOLD_acq-1400_events.tsv\n",
      "/cbica/projects/RBC/RBC_RAWDATA/bidsdatasets/NKI/sub-A00082635/ses-BAS1/func/sub-A00082635_ses-BAS1_task-rest_acq-CAP_events.tsv\n"
     ]
    }
   ],
   "source": [
    "!find /cbica/projects/RBC/RBC_RAWDATA/bidsdatasets/NKI -name '*.tsv' -size 0"
   ]
  },
  {
   "cell_type": "code",
   "execution_count": 2,
   "metadata": {},
   "outputs": [
    {
     "name": "stdout",
     "output_type": "stream",
     "text": [
      "/cbica/projects/RBC/RBC_RAWDATA/bidsdatasets/NKI/sub-A00082942/ses-FLU1/func/sub-A00082942_ses-FLU1_task-rest_acq-CAP_bold.nii.gz\n",
      "/cbica/projects/RBC/RBC_RAWDATA/bidsdatasets/NKI/sub-A00027439/ses-BAS1/func/sub-A00027439_ses-BAS1_task-CHECKERBOARD_acq-1400_bold.nii.gz\n",
      "/cbica/projects/RBC/RBC_RAWDATA/bidsdatasets/NKI/sub-A00062349/ses-TRT/anat/sub-A00062349_ses-TRT_T1w.nii.gz\n",
      "/cbica/projects/RBC/RBC_RAWDATA/bidsdatasets/NKI/sub-A00077638/ses-TRT/func/sub-A00077638_ses-TRT_task-rest_acq-1400_bold.nii.gz\n"
     ]
    }
   ],
   "source": [
    "!find /cbica/projects/RBC/RBC_RAWDATA/bidsdatasets/NKI -name '*.nii.gz' -size 0"
   ]
  },
  {
   "cell_type": "code",
   "execution_count": 4,
   "metadata": {},
   "outputs": [
    {
     "name": "stdout",
     "output_type": "stream",
     "text": [
      "bids-validator@1.5.7-dev.0\n",
      "\n",
      "\t\u001b[31m1: [ERR] Files with such naming scheme are not part of BIDS specification. This error is most commonly caused by typos in file names that make them not BIDS compatible. Please consult the specification and make sure your files are named correctly. If this is not a file naming issue (for example when including files not yet covered by the BIDS specification) you should include a \".bidsignore\" file in your dataset (see https://github.com/bids-standard/bids-validator#bidsignore for details). Please note that derived (processed) data should be placed in /derivatives folder and source data (such as DICOMS or behavioural logs in proprietary formats) should be placed in the /sourcedata folder. (code: 1 - NOT_INCLUDED)\u001b[39m\n",
      "\t\t./sub-A00008326/ses-BAS2/perf/sub-A00008326_ses-BAS2_asl.json\n",
      "\t\t\tEvidence: sub-A00008326_ses-BAS2_asl.json\n",
      "\t\t./sub-A00008326/ses-BAS2/perf/sub-A00008326_ses-BAS2_asl.nii.gz\n",
      "\t\t\tEvidence: sub-A00008326_ses-BAS2_asl.nii.gz\n",
      "\t\t./sub-A00008326/ses-BAS2/perf/sub-A00008326_ses-BAS2_aslcontext.tsv\n",
      "\t\t\tEvidence: sub-A00008326_ses-BAS2_aslcontext.tsv\n",
      "\t\t./sub-A00008326/ses-BAS2/perf/sub-A00008326_ses-BAS2_events.tsv\n",
      "\t\t\tEvidence: sub-A00008326_ses-BAS2_events.tsv\n",
      "\t\t./sub-A00008326/ses-FLU1/perf/sub-A00008326_ses-FLU1_asl.json\n",
      "\t\t\tEvidence: sub-A00008326_ses-FLU1_asl.json\n",
      "\t\t./sub-A00008326/ses-FLU1/perf/sub-A00008326_ses-FLU1_asl.nii.gz\n",
      "\t\t\tEvidence: sub-A00008326_ses-FLU1_asl.nii.gz\n",
      "\t\t./sub-A00008326/ses-FLU1/perf/sub-A00008326_ses-FLU1_aslcontext.tsv\n",
      "\t\t\tEvidence: sub-A00008326_ses-FLU1_aslcontext.tsv\n",
      "\t\t./sub-A00008326/ses-FLU1/perf/sub-A00008326_ses-FLU1_events.tsv\n",
      "\t\t\tEvidence: sub-A00008326_ses-FLU1_events.tsv\n",
      "\t\t./sub-A00018030/ses-FLU1/perf/sub-A00018030_ses-FLU1_asl.json\n",
      "\t\t\tEvidence: sub-A00018030_ses-FLU1_asl.json\n",
      "\t\t./sub-A00018030/ses-FLU1/perf/sub-A00018030_ses-FLU1_asl.nii.gz\n",
      "\t\t\tEvidence: sub-A00018030_ses-FLU1_asl.nii.gz\n",
      "\t\t\u001b[31m... and 7125 more files having this issue (Use --verbose to see them all).\u001b[39m\n",
      "\n",
      "\u001b[36m\tPlease visit https://neurostars.org/search?q=NOT_INCLUDED for existing conversations about this issue.\u001b[39m\n",
      "\n",
      "\t\u001b[31m2: [ERR] Ses label contain an Illegal Character hyphen or underscore. Please edit the filename as per BIDS spec. (code: 63 - SESSION_VALUE_CONTAINS_ILLEGAL_CHARACTER)\u001b[39m\n",
      "\t\t./sub-A00032875/ses-BAS1/dwi/sub-A00032875_ses-BAS1_dwi_physio.json\n",
      "\t\t\tEvidence: ses name contains illegal character:/sub-A00032875/ses-BAS1/dwi/sub-A00032875_ses-BAS1_dwi_physio.json\n",
      "\t\t./sub-A00032875/ses-BAS2/dwi/sub-A00032875_ses-BAS2_dwi_physio.json\n",
      "\t\t\tEvidence: ses name contains illegal character:/sub-A00032875/ses-BAS2/dwi/sub-A00032875_ses-BAS2_dwi_physio.json\n",
      "\t\t./sub-A00032875/ses-BAS3/dwi/sub-A00032875_ses-BAS3_dwi_physio.json\n",
      "\t\t\tEvidence: ses name contains illegal character:/sub-A00032875/ses-BAS3/dwi/sub-A00032875_ses-BAS3_dwi_physio.json\n",
      "\t\t./sub-A00033609/ses-BAS1/dwi/sub-A00033609_ses-BAS1_dwi_physio.json\n",
      "\t\t\tEvidence: ses name contains illegal character:/sub-A00033609/ses-BAS1/dwi/sub-A00033609_ses-BAS1_dwi_physio.json\n",
      "\t\t./sub-A00037111/ses-BAS1/dwi/sub-A00037111_ses-BAS1_dwi_physio.json\n",
      "\t\t\tEvidence: ses name contains illegal character:/sub-A00037111/ses-BAS1/dwi/sub-A00037111_ses-BAS1_dwi_physio.json\n",
      "\t\t./sub-A00037123/ses-BAS1/dwi/sub-A00037123_ses-BAS1_dwi_physio.json\n",
      "\t\t\tEvidence: ses name contains illegal character:/sub-A00037123/ses-BAS1/dwi/sub-A00037123_ses-BAS1_dwi_physio.json\n",
      "\t\t./sub-A00037445/ses-BAS1/dwi/sub-A00037445_ses-BAS1_dwi_physio.json\n",
      "\t\t\tEvidence: ses name contains illegal character:/sub-A00037445/ses-BAS1/dwi/sub-A00037445_ses-BAS1_dwi_physio.json\n",
      "\t\t./sub-A00039640/ses-BAS1/dwi/sub-A00039640_ses-BAS1_dwi_physio.json\n",
      "\t\t\tEvidence: ses name contains illegal character:/sub-A00039640/ses-BAS1/dwi/sub-A00039640_ses-BAS1_dwi_physio.json\n",
      "\t\t./sub-A00039943/ses-FLU1/dwi/sub-A00039943_ses-FLU1_dwi_physio.json\n",
      "\t\t\tEvidence: ses name contains illegal character:/sub-A00039943/ses-FLU1/dwi/sub-A00039943_ses-FLU1_dwi_physio.json\n",
      "\t\t./sub-A00040117/ses-FLU1/dwi/sub-A00040117_ses-FLU1_dwi_physio.json\n",
      "\t\t\tEvidence: ses name contains illegal character:/sub-A00040117/ses-FLU1/dwi/sub-A00040117_ses-FLU1_dwi_physio.json\n",
      "\t\t\u001b[31m... and 92 more files having this issue (Use --verbose to see them all).\u001b[39m\n",
      "\n",
      "\u001b[36m\tPlease visit https://neurostars.org/search?q=SESSION_VALUE_CONTAINS_ILLEGAL_CHARACTER for existing conversations about this issue.\u001b[39m\n",
      "\n",
      "\t\u001b[31m3: [ERR] Empty files not allowed. (code: 99 - EMPTY_FILE)\u001b[39m\n",
      "\t\t./sub-A00062353/ses-TRT/func/sub-A00062353_ses-TRT_task-BREATHHOLD_acq-1400_events.tsv\n",
      "\n",
      "\u001b[36m\tPlease visit https://neurostars.org/search?q=EMPTY_FILE for existing conversations about this issue.\u001b[39m\n",
      "\n",
      "\n",
      "        \u001b[34m\u001b[4mSummary:\u001b[24m\u001b[39m                  \u001b[34m\u001b[4mAvailable Tasks:\u001b[24m\u001b[39m        \u001b[34m\u001b[4mAvailable Modalities:\u001b[24m\u001b[39m \n",
      "        59683 Files, 2.1TB                                T1w                   \n",
      "        1312 - Subjects                                   dwi                   \n",
      "        7 - Sessions                                      bold                  \n",
      "                                                          events                \n",
      "                                                          physio                \n",
      "\n",
      "\n",
      "\u001b[36m\tIf you have any questions, please post on https://neurostars.org/tags/bids.\u001b[39m\n",
      "\n",
      "\n",
      "real\t2m20.173s\n",
      "user\t1m19.392s\n",
      "sys\t0m18.065s\n"
     ]
    }
   ],
   "source": [
    "!time bids-validator --ignoreSessionConsistency /cbica/projects/RBC/RBC_RAWDATA/bidsdatasets/NKI"
   ]
  },
  {
   "cell_type": "markdown",
   "metadata": {},
   "source": [
    "It's clear that error 3 (code 99) only recognises one empty file, although when we ran `find` there were many.\n",
    "\n",
    "Next, let's replace a handful of these empty files with actual data and re-run:"
   ]
  },
  {
   "cell_type": "code",
   "execution_count": 5,
   "metadata": {},
   "outputs": [
    {
     "name": "stdout",
     "output_type": "stream",
     "text": [
      "total 115586\n",
      "drwxrwsr-x. 2 rbc rbc     4096 Sep 28 19:11 .\n",
      "drwxrwsr-x. 5 rbc rbc     4096 Sep 28 19:10 ..\n",
      "-rw-rw-r--. 1 rbc rbc 90870160 Sep 10 10:37 sub-A00064328_ses-FLU3_task-CHECKERBOARD_acq-1400_bold.nii.gz\n",
      "-rw-rw-r--. 1 rbc rbc       76 Oct 13 15:22 sub-A00064328_ses-FLU3_task-CHECKERBOARD_acq-1400_events.tsv\n",
      "-rw-rw-r--. 1 rbc rbc 27390889 Sep 10 10:37 sub-A00064328_ses-FLU3_task-rest_acq-CAP_bold.nii.gz\n",
      "-rw-rw-r--. 1 rbc rbc       76 Aug 13 15:59 sub-A00064328_ses-FLU3_task-rest_acq-CAP_events.tsv\n"
     ]
    }
   ],
   "source": [
    "!ls -al /cbica/projects/RBC/RBC_RAWDATA/bidsdatasets/NKI/sub-A00064328/ses-FLU3/func"
   ]
  },
  {
   "cell_type": "code",
   "execution_count": 6,
   "metadata": {},
   "outputs": [
    {
     "name": "stdout",
     "output_type": "stream",
     "text": [
      "total 842372\n",
      "drwxrwsr-x. 2 rbc rbc      4096 Oct  7 17:18 .\n",
      "drwxrwsr-x. 6 rbc rbc      4096 Oct  7 17:18 ..\n",
      "-rw-rw-r--. 1 rbc rbc 167544034 Sep 10 10:31 sub-A00062353_ses-TRT_task-BREATHHOLD_acq-1400_bold.nii.gz\n",
      "-rw-rw-r--. 1 rbc rbc        76 Oct 13 16:59 sub-A00062353_ses-TRT_task-BREATHHOLD_acq-1400_events.tsv\n",
      "-rw-rw-r--. 1 rbc rbc  88181465 Sep 10 10:31 sub-A00062353_ses-TRT_task-CHECKERBOARD_acq-1400_bold.nii.gz\n",
      "-rw-rw-r--. 1 rbc rbc        76 Aug 13 15:54 sub-A00062353_ses-TRT_task-CHECKERBOARD_acq-1400_events.tsv\n",
      "-rw-rw-r--. 1 rbc rbc 362083072 Sep 10 10:31 sub-A00062353_ses-TRT_task-rest_acq-1400_bold.nii.gz\n",
      "-rw-rw-r--. 1 rbc rbc        76 Aug 13 15:54 sub-A00062353_ses-TRT_task-rest_acq-1400_events.tsv\n",
      "-rw-rw-r--. 1 rbc rbc 218098028 Sep 10 10:31 sub-A00062353_ses-TRT_task-rest_acq-645_bold.nii.gz\n",
      "-rw-rw-r--. 1 rbc rbc        76 Aug 13 15:54 sub-A00062353_ses-TRT_task-rest_acq-645_events.tsv\n",
      "-rw-rw-r--. 1 rbc rbc  26358034 Sep 10 10:31 sub-A00062353_ses-TRT_task-rest_acq-CAP_bold.nii.gz\n",
      "-rw-rw-r--. 1 rbc rbc        76 Aug 13 15:54 sub-A00062353_ses-TRT_task-rest_acq-CAP_events.tsv\n"
     ]
    }
   ],
   "source": [
    "!ls -al /cbica/projects/RBC/RBC_RAWDATA/bidsdatasets/NKI/sub-A00062353/ses-TRT/func/"
   ]
  },
  {
   "cell_type": "markdown",
   "metadata": {},
   "source": [
    "We've replaced the missing `CHECKERBOARD` tsv and the `BREATHHOLD` in the validator report with real data, let's see if the validator is privy:"
   ]
  },
  {
   "cell_type": "code",
   "execution_count": 7,
   "metadata": {},
   "outputs": [
    {
     "name": "stdout",
     "output_type": "stream",
     "text": [
      "bids-validator@1.5.7-dev.0\n",
      "\n",
      "\t\u001b[31m1: [ERR] Files with such naming scheme are not part of BIDS specification. This error is most commonly caused by typos in file names that make them not BIDS compatible. Please consult the specification and make sure your files are named correctly. If this is not a file naming issue (for example when including files not yet covered by the BIDS specification) you should include a \".bidsignore\" file in your dataset (see https://github.com/bids-standard/bids-validator#bidsignore for details). Please note that derived (processed) data should be placed in /derivatives folder and source data (such as DICOMS or behavioural logs in proprietary formats) should be placed in the /sourcedata folder. (code: 1 - NOT_INCLUDED)\u001b[39m\n",
      "\t\t./sub-A00008326/ses-BAS2/perf/sub-A00008326_ses-BAS2_asl.json\n",
      "\t\t\tEvidence: sub-A00008326_ses-BAS2_asl.json\n",
      "\t\t./sub-A00008326/ses-BAS2/perf/sub-A00008326_ses-BAS2_asl.nii.gz\n",
      "\t\t\tEvidence: sub-A00008326_ses-BAS2_asl.nii.gz\n",
      "\t\t./sub-A00008326/ses-BAS2/perf/sub-A00008326_ses-BAS2_aslcontext.tsv\n",
      "\t\t\tEvidence: sub-A00008326_ses-BAS2_aslcontext.tsv\n",
      "\t\t./sub-A00008326/ses-BAS2/perf/sub-A00008326_ses-BAS2_events.tsv\n",
      "\t\t\tEvidence: sub-A00008326_ses-BAS2_events.tsv\n",
      "\t\t./sub-A00008326/ses-FLU1/perf/sub-A00008326_ses-FLU1_asl.json\n",
      "\t\t\tEvidence: sub-A00008326_ses-FLU1_asl.json\n",
      "\t\t./sub-A00008326/ses-FLU1/perf/sub-A00008326_ses-FLU1_asl.nii.gz\n",
      "\t\t\tEvidence: sub-A00008326_ses-FLU1_asl.nii.gz\n",
      "\t\t./sub-A00008326/ses-FLU1/perf/sub-A00008326_ses-FLU1_aslcontext.tsv\n",
      "\t\t\tEvidence: sub-A00008326_ses-FLU1_aslcontext.tsv\n",
      "\t\t./sub-A00008326/ses-FLU1/perf/sub-A00008326_ses-FLU1_events.tsv\n",
      "\t\t\tEvidence: sub-A00008326_ses-FLU1_events.tsv\n",
      "\t\t./sub-A00018030/ses-FLU1/perf/sub-A00018030_ses-FLU1_asl.json\n",
      "\t\t\tEvidence: sub-A00018030_ses-FLU1_asl.json\n",
      "\t\t./sub-A00018030/ses-FLU1/perf/sub-A00018030_ses-FLU1_asl.nii.gz\n",
      "\t\t\tEvidence: sub-A00018030_ses-FLU1_asl.nii.gz\n",
      "\t\t\u001b[31m... and 7125 more files having this issue (Use --verbose to see them all).\u001b[39m\n",
      "\n",
      "\u001b[36m\tPlease visit https://neurostars.org/search?q=NOT_INCLUDED for existing conversations about this issue.\u001b[39m\n",
      "\n",
      "\t\u001b[31m2: [ERR] Ses label contain an Illegal Character hyphen or underscore. Please edit the filename as per BIDS spec. (code: 63 - SESSION_VALUE_CONTAINS_ILLEGAL_CHARACTER)\u001b[39m\n",
      "\t\t./sub-A00032875/ses-BAS1/dwi/sub-A00032875_ses-BAS1_dwi_physio.json\n",
      "\t\t\tEvidence: ses name contains illegal character:/sub-A00032875/ses-BAS1/dwi/sub-A00032875_ses-BAS1_dwi_physio.json\n",
      "\t\t./sub-A00032875/ses-BAS2/dwi/sub-A00032875_ses-BAS2_dwi_physio.json\n",
      "\t\t\tEvidence: ses name contains illegal character:/sub-A00032875/ses-BAS2/dwi/sub-A00032875_ses-BAS2_dwi_physio.json\n",
      "\t\t./sub-A00032875/ses-BAS3/dwi/sub-A00032875_ses-BAS3_dwi_physio.json\n",
      "\t\t\tEvidence: ses name contains illegal character:/sub-A00032875/ses-BAS3/dwi/sub-A00032875_ses-BAS3_dwi_physio.json\n",
      "\t\t./sub-A00033609/ses-BAS1/dwi/sub-A00033609_ses-BAS1_dwi_physio.json\n",
      "\t\t\tEvidence: ses name contains illegal character:/sub-A00033609/ses-BAS1/dwi/sub-A00033609_ses-BAS1_dwi_physio.json\n",
      "\t\t./sub-A00037111/ses-BAS1/dwi/sub-A00037111_ses-BAS1_dwi_physio.json\n",
      "\t\t\tEvidence: ses name contains illegal character:/sub-A00037111/ses-BAS1/dwi/sub-A00037111_ses-BAS1_dwi_physio.json\n",
      "\t\t./sub-A00037123/ses-BAS1/dwi/sub-A00037123_ses-BAS1_dwi_physio.json\n",
      "\t\t\tEvidence: ses name contains illegal character:/sub-A00037123/ses-BAS1/dwi/sub-A00037123_ses-BAS1_dwi_physio.json\n",
      "\t\t./sub-A00037445/ses-BAS1/dwi/sub-A00037445_ses-BAS1_dwi_physio.json\n",
      "\t\t\tEvidence: ses name contains illegal character:/sub-A00037445/ses-BAS1/dwi/sub-A00037445_ses-BAS1_dwi_physio.json\n",
      "\t\t./sub-A00039640/ses-BAS1/dwi/sub-A00039640_ses-BAS1_dwi_physio.json\n",
      "\t\t\tEvidence: ses name contains illegal character:/sub-A00039640/ses-BAS1/dwi/sub-A00039640_ses-BAS1_dwi_physio.json\n",
      "\t\t./sub-A00039943/ses-FLU1/dwi/sub-A00039943_ses-FLU1_dwi_physio.json\n",
      "\t\t\tEvidence: ses name contains illegal character:/sub-A00039943/ses-FLU1/dwi/sub-A00039943_ses-FLU1_dwi_physio.json\n",
      "\t\t./sub-A00040117/ses-FLU1/dwi/sub-A00040117_ses-FLU1_dwi_physio.json\n",
      "\t\t\tEvidence: ses name contains illegal character:/sub-A00040117/ses-FLU1/dwi/sub-A00040117_ses-FLU1_dwi_physio.json\n",
      "\t\t\u001b[31m... and 92 more files having this issue (Use --verbose to see them all).\u001b[39m\n",
      "\n",
      "\u001b[36m\tPlease visit https://neurostars.org/search?q=SESSION_VALUE_CONTAINS_ILLEGAL_CHARACTER for existing conversations about this issue.\u001b[39m\n",
      "\n",
      "\t\u001b[31m3: [ERR] Empty files not allowed. (code: 99 - EMPTY_FILE)\u001b[39m\n",
      "\t\t./sub-A00064418/ses-TRT/func/sub-A00064418_ses-TRT_task-rest_acq-645_events.tsv\n",
      "\n",
      "\u001b[36m\tPlease visit https://neurostars.org/search?q=EMPTY_FILE for existing conversations about this issue.\u001b[39m\n",
      "\n",
      "\n",
      "        \u001b[34m\u001b[4mSummary:\u001b[24m\u001b[39m                  \u001b[34m\u001b[4mAvailable Tasks:\u001b[24m\u001b[39m        \u001b[34m\u001b[4mAvailable Modalities:\u001b[24m\u001b[39m \n",
      "        59683 Files, 2.1TB                                T1w                   \n",
      "        1312 - Subjects                                   dwi                   \n",
      "        7 - Sessions                                      bold                  \n",
      "                                                          events                \n",
      "                                                          physio                \n",
      "\n",
      "\n",
      "\u001b[36m\tIf you have any questions, please post on https://neurostars.org/tags/bids.\u001b[39m\n",
      "\n",
      "\n",
      "real\t4m42.270s\n",
      "user\t1m25.361s\n",
      "sys\t0m20.250s\n"
     ]
    }
   ],
   "source": [
    "!time bids-validator --ignoreSessionConsistency /cbica/projects/RBC/RBC_RAWDATA/bidsdatasets/NKI"
   ]
  },
  {
   "cell_type": "markdown",
   "metadata": {},
   "source": [
    "Bingo! The bids validator doesn't catch all of the code 99 errors it should be doing!"
   ]
  },
  {
   "cell_type": "code",
   "execution_count": null,
   "metadata": {},
   "outputs": [],
   "source": []
  }
 ],
 "metadata": {
  "kernelspec": {
   "display_name": "Python 3",
   "language": "python",
   "name": "python3"
  },
  "language_info": {
   "codemirror_mode": {
    "name": "ipython",
    "version": 3
   },
   "file_extension": ".py",
   "mimetype": "text/x-python",
   "name": "python",
   "nbconvert_exporter": "python",
   "pygments_lexer": "ipython3",
   "version": "3.8.5"
  }
 },
 "nbformat": 4,
 "nbformat_minor": 4
}
