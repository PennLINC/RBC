{
 "cells": [
  {
   "cell_type": "markdown",
   "metadata": {},
   "source": [
    "# Who is Ready to Upload?\n",
    "\n",
    "This notebook tracks who is ready to upload data to flywheel. These are individuals who are currently BIDS valid on CUBIC."
   ]
  },
  {
   "cell_type": "code",
   "execution_count": 42,
   "metadata": {},
   "outputs": [],
   "source": [
    "import pandas as pd\n",
    "import flywheel\n",
    "\n",
    "\n",
    "def get_target_from_code(dataset, code):\n",
    "    \n",
    "    df = pd.read_csv('/cbica/projects/RBC/flywheel_curation/RBC/PennLINC/Validation/CUBIC_Curation/{}_validation.csv'.format(dataset))\n",
    "\n",
    "    df[['subject', 'session', 'folder', 'filename']] = df['files'].str.split('/', expand=True).loc[:,1:4]\n",
    "\n",
    "    res = df.loc[(df['code'] == code), ['files', 'subject', 'session', 'filename']]\n",
    "    return res"
   ]
  },
  {
   "cell_type": "markdown",
   "metadata": {},
   "source": [
    "---\n",
    "\n",
    "# NKI\n",
    "\n",
    "The NKI data was valid prior to downloading; we do need to move functional data to perf/ASL format before uploading it to flywheel though. No updates yet."
   ]
  },
  {
   "cell_type": "code",
   "execution_count": null,
   "metadata": {},
   "outputs": [],
   "source": []
  },
  {
   "cell_type": "markdown",
   "metadata": {},
   "source": [
    "---\n",
    "\n",
    "# HBN\n",
    "\n",
    "Here we tally all of the subjects who did *not* have a BIDS validator error call on their files."
   ]
  },
  {
   "cell_type": "code",
   "execution_count": 31,
   "metadata": {},
   "outputs": [],
   "source": [
    "with open('/cbica/projects/RBC/flywheel_curation/RBC/PennLINC/Validation/HBN/hbn_subjects2.txt', 'r') as read_file:\n",
    "    hbn_subjects = read_file.read()\n",
    "    hbn_subjects = hbn_subjects.split('\\n')"
   ]
  },
  {
   "cell_type": "markdown",
   "metadata": {},
   "source": [
    "Here's the list of HBN subjects"
   ]
  },
  {
   "cell_type": "code",
   "execution_count": 38,
   "metadata": {},
   "outputs": [
    {
     "data": {
      "text/plain": [
       "['sub-NDARAA112DMH',\n",
       " 'sub-NDARHR753ZKU',\n",
       " 'sub-NDARAA117NEJ',\n",
       " 'sub-NDARAC904DMU',\n",
       " 'sub-NDARAE012DGA',\n",
       " 'sub-NDARAN814UPR',\n",
       " 'sub-NDARAP176AD1',\n",
       " 'sub-NDARPV595RWB',\n",
       " 'sub-NDARAV031PPJ',\n",
       " 'sub-NDARWJ498CZY']"
      ]
     },
     "execution_count": 38,
     "metadata": {},
     "output_type": "execute_result"
    }
   ],
   "source": [
    "hbn_subjects[:10]"
   ]
  },
  {
   "cell_type": "code",
   "execution_count": 39,
   "metadata": {},
   "outputs": [
    {
     "data": {
      "text/plain": [
       "2619"
      ]
     },
     "execution_count": 39,
     "metadata": {},
     "output_type": "execute_result"
    }
   ],
   "source": [
    "len(hbn_subjects)"
   ]
  },
  {
   "cell_type": "code",
   "execution_count": 25,
   "metadata": {},
   "outputs": [],
   "source": [
    "bids_validator_output = pd.read_csv('/cbica/projects/RBC/flywheel_curation/RBC/PennLINC/Validation/CUBIC_Curation/HBN_validation.csv')\n",
    "bids_validator_output[['subject', 'session', 'folder', 'filename']] = bids_validator_output['files'].str.split('/', expand=True).loc[:,1:4]\n",
    "\n",
    "invalid = bids_validator_output[['subject']].drop_duplicates().values.tolist()\n",
    "\n",
    "invalid = list(set([y for x in invalid for y in x]))"
   ]
  },
  {
   "cell_type": "markdown",
   "metadata": {},
   "source": [
    "Here's the list of subjects who had errors in the BIDS validator:"
   ]
  },
  {
   "cell_type": "code",
   "execution_count": 40,
   "metadata": {},
   "outputs": [
    {
     "data": {
      "text/plain": [
       "[nan,\n",
       " 'sub-NDARVY859ENR',\n",
       " 'sub-NDARUT233WU9',\n",
       " 'sub-NDARBK106KRH',\n",
       " 'sub-NDARBM839WR5',\n",
       " 'sub-NDARAR238RZ8',\n",
       " 'sub-NDARRZ927VC3',\n",
       " 'sub-NDARGK943RL3',\n",
       " 'sub-NDARNB390JL3',\n",
       " 'sub-NDARMX328VWC']"
      ]
     },
     "execution_count": 40,
     "metadata": {},
     "output_type": "execute_result"
    }
   ],
   "source": [
    "invalid[:10]"
   ]
  },
  {
   "cell_type": "code",
   "execution_count": 26,
   "metadata": {},
   "outputs": [
    {
     "data": {
      "text/plain": [
       "2024"
      ]
     },
     "execution_count": 26,
     "metadata": {},
     "output_type": "execute_result"
    }
   ],
   "source": [
    "len(invalid)"
   ]
  },
  {
   "cell_type": "markdown",
   "metadata": {},
   "source": [
    "So the remaining subjects are the difference:"
   ]
  },
  {
   "cell_type": "code",
   "execution_count": 35,
   "metadata": {},
   "outputs": [],
   "source": [
    "to_upload = [x for x in hbn_subjects if x not in invalid]"
   ]
  },
  {
   "cell_type": "code",
   "execution_count": 41,
   "metadata": {},
   "outputs": [
    {
     "data": {
      "text/plain": [
       "['sub-NDARPV595RWB',\n",
       " 'sub-NDARPY458LTR',\n",
       " 'sub-NDARRA383KVQ',\n",
       " 'sub-NDARRA981BCM',\n",
       " 'sub-NDARRE063LG2']"
      ]
     },
     "execution_count": 41,
     "metadata": {},
     "output_type": "execute_result"
    }
   ],
   "source": [
    "to_upload[:5]"
   ]
  },
  {
   "cell_type": "code",
   "execution_count": 37,
   "metadata": {},
   "outputs": [
    {
     "data": {
      "text/plain": [
       "596"
      ]
     },
     "execution_count": 37,
     "metadata": {},
     "output_type": "execute_result"
    }
   ],
   "source": [
    "len(to_upload)"
   ]
  },
  {
   "cell_type": "markdown",
   "metadata": {},
   "source": [
    "We also need the subjects currently on flywheel to make sure we don't overwrite data:"
   ]
  },
  {
   "cell_type": "code",
   "execution_count": 52,
   "metadata": {},
   "outputs": [
    {
     "name": "stderr",
     "output_type": "stream",
     "text": [
      "WARNING:Flywheel:Use \"pip install flywheel-sdk~=12.4.6\" to install a compatible version for this server\n"
     ]
    }
   ],
   "source": [
    "client = flywheel.Client()\n",
    "\n",
    "proj = client.projects.find_first('label=RBC_HBN_cubic')\n",
    "\n",
    "subjects = proj.subjects() # at this time it should be empty\n",
    "\n",
    "existing_subject_labels = [x.label for x in subjects]"
   ]
  },
  {
   "cell_type": "code",
   "execution_count": 53,
   "metadata": {},
   "outputs": [
    {
     "name": "stdout",
     "output_type": "stream",
     "text": [
      "RBC_HBN_cubic ( 5f75026f58e86f0fcabb7d23 ) num of subjects:\n",
      "0\n"
     ]
    }
   ],
   "source": [
    "print(proj.label, '(', proj.id, ') num of subjects:')\n",
    "print(len(existing_subject_labels))"
   ]
  },
  {
   "cell_type": "code",
   "execution_count": 55,
   "metadata": {},
   "outputs": [
    {
     "data": {
      "text/plain": [
       "596"
      ]
     },
     "execution_count": 55,
     "metadata": {},
     "output_type": "execute_result"
    }
   ],
   "source": [
    "to_upload = [x for x in to_upload if x not in existing_subject_labels]\n",
    "len(to_upload)"
   ]
  },
  {
   "cell_type": "markdown",
   "metadata": {},
   "source": [
    "We write the `to_upload` file out and upload with the SGE:"
   ]
  },
  {
   "cell_type": "code",
   "execution_count": 51,
   "metadata": {},
   "outputs": [],
   "source": [
    "with open(\"/cbica/projects/RBC/flywheel_curation/RBC/PennLINC/Validation/CUBIC_Curation/upload_ready_subject_lists/hbn_upload.txt\", \"w\") as outfile:\n",
    "    outfile.write(\"\\n\".join(to_upload))"
   ]
  },
  {
   "cell_type": "markdown",
   "metadata": {},
   "source": [
    "In a bash shell:\n",
    "```\n",
    "while read line; \n",
    "do \n",
    "  qsub ./upload_hbn_qsub.sh $line; \n",
    "done < /cbica/projects/RBC/flywheel_curation/RBC/PennLINC/Validation/CUBIC_Curation/upload_ready_subject_lists/hbn_upload.txt\n",
    "```"
   ]
  },
  {
   "cell_type": "code",
   "execution_count": null,
   "metadata": {},
   "outputs": [],
   "source": []
  }
 ],
 "metadata": {
  "kernelspec": {
   "display_name": "Python 3",
   "language": "python",
   "name": "python3"
  },
  "language_info": {
   "codemirror_mode": {
    "name": "ipython",
    "version": 3
   },
   "file_extension": ".py",
   "mimetype": "text/x-python",
   "name": "python",
   "nbconvert_exporter": "python",
   "pygments_lexer": "ipython3",
   "version": "3.8.5"
  }
 },
 "nbformat": 4,
 "nbformat_minor": 4
}
