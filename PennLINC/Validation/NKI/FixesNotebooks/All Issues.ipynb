{
 "cells": [
  {
   "cell_type": "markdown",
   "metadata": {},
   "source": [
    "# Tabulating All Issues\n",
    "\n",
    "Here we tabulate all the available issues and see if we can solve them in groups."
   ]
  },
  {
   "cell_type": "code",
   "execution_count": null,
   "metadata": {},
   "outputs": [],
   "source": [
    "import pandas as pd\n",
    "\n",
    "df = pd.read_csv('/storage/ttapera/RBC/PennLINC/Validation/NKI/validation.csv')\n",
    "df"
   ]
  },
  {
   "cell_type": "markdown",
   "metadata": {},
   "source": [
    "The different issues to fix are:"
   ]
  },
  {
   "cell_type": "code",
   "execution_count": 2,
   "metadata": {},
   "outputs": [
    {
     "data": {
      "text/html": [
       "<div>\n",
       "<style scoped>\n",
       "    .dataframe tbody tr th:only-of-type {\n",
       "        vertical-align: middle;\n",
       "    }\n",
       "\n",
       "    .dataframe tbody tr th {\n",
       "        vertical-align: top;\n",
       "    }\n",
       "\n",
       "    .dataframe thead tr th {\n",
       "        text-align: left;\n",
       "    }\n",
       "\n",
       "    .dataframe thead tr:last-of-type th {\n",
       "        text-align: right;\n",
       "    }\n",
       "</style>\n",
       "<table border=\"1\" class=\"dataframe\">\n",
       "  <thead>\n",
       "    <tr>\n",
       "      <th></th>\n",
       "      <th></th>\n",
       "      <th>files</th>\n",
       "    </tr>\n",
       "    <tr>\n",
       "      <th></th>\n",
       "      <th></th>\n",
       "      <th>count</th>\n",
       "    </tr>\n",
       "    <tr>\n",
       "      <th>severity</th>\n",
       "      <th>type</th>\n",
       "      <th></th>\n",
       "    </tr>\n",
       "  </thead>\n",
       "  <tbody>\n",
       "    <tr>\n",
       "      <th rowspan=\"6\" valign=\"top\">error</th>\n",
       "      <th>EMPTY_FILE</th>\n",
       "      <td>2</td>\n",
       "    </tr>\n",
       "    <tr>\n",
       "      <th>NIFTI_TOO_SMALL</th>\n",
       "      <td>2</td>\n",
       "    </tr>\n",
       "    <tr>\n",
       "      <th>NOT_INCLUDED</th>\n",
       "      <td>201</td>\n",
       "    </tr>\n",
       "    <tr>\n",
       "      <th>REPETITION_TIME_MUST_DEFINE</th>\n",
       "      <td>117</td>\n",
       "    </tr>\n",
       "    <tr>\n",
       "      <th>SESSION_VALUE_CONTAINS_ILLEGAL_CHARACTER</th>\n",
       "      <td>104</td>\n",
       "    </tr>\n",
       "    <tr>\n",
       "      <th>TASK_NAME_MUST_DEFINE</th>\n",
       "      <td>117</td>\n",
       "    </tr>\n",
       "    <tr>\n",
       "      <th rowspan=\"8\" valign=\"top\">warning</th>\n",
       "      <th>INCONSISTENT_PARAMETERS</th>\n",
       "      <td>274</td>\n",
       "    </tr>\n",
       "    <tr>\n",
       "      <th>INCONSISTENT_SUBJECTS</th>\n",
       "      <td>43516</td>\n",
       "    </tr>\n",
       "    <tr>\n",
       "      <th>MISSING_SESSION</th>\n",
       "      <td>6898</td>\n",
       "    </tr>\n",
       "    <tr>\n",
       "      <th>NO_AUTHORS</th>\n",
       "      <td>0</td>\n",
       "    </tr>\n",
       "    <tr>\n",
       "      <th>README_FILE_MISSING</th>\n",
       "      <td>0</td>\n",
       "    </tr>\n",
       "    <tr>\n",
       "      <th>SLICE_TIMING_NOT_DEFINED</th>\n",
       "      <td>134</td>\n",
       "    </tr>\n",
       "    <tr>\n",
       "      <th>SUSPICIOUSLY_LONG_EVENT_DESIGN</th>\n",
       "      <td>2</td>\n",
       "    </tr>\n",
       "    <tr>\n",
       "      <th>SUSPICIOUSLY_SHORT_EVENT_DESIGN</th>\n",
       "      <td>14721</td>\n",
       "    </tr>\n",
       "  </tbody>\n",
       "</table>\n",
       "</div>"
      ],
      "text/plain": [
       "                                                   files\n",
       "                                                   count\n",
       "severity type                                           \n",
       "error    EMPTY_FILE                                    2\n",
       "         NIFTI_TOO_SMALL                               2\n",
       "         NOT_INCLUDED                                201\n",
       "         REPETITION_TIME_MUST_DEFINE                 117\n",
       "         SESSION_VALUE_CONTAINS_ILLEGAL_CHARACTER    104\n",
       "         TASK_NAME_MUST_DEFINE                       117\n",
       "warning  INCONSISTENT_PARAMETERS                     274\n",
       "         INCONSISTENT_SUBJECTS                     43516\n",
       "         MISSING_SESSION                            6898\n",
       "         NO_AUTHORS                                    0\n",
       "         README_FILE_MISSING                           0\n",
       "         SLICE_TIMING_NOT_DEFINED                    134\n",
       "         SUSPICIOUSLY_LONG_EVENT_DESIGN                2\n",
       "         SUSPICIOUSLY_SHORT_EVENT_DESIGN           14721"
      ]
     },
     "execution_count": 2,
     "metadata": {},
     "output_type": "execute_result"
    }
   ],
   "source": [
    "df[['severity', 'type', 'files']].groupby(['severity', 'type']).agg(['count'])"
   ]
  },
  {
   "cell_type": "code",
   "execution_count": null,
   "metadata": {},
   "outputs": [],
   "source": [
    "df.loc[df['type'] == 'INTENDED_FOR', ['severity', 'type', 'files', 'description']]"
   ]
  },
  {
   "cell_type": "code",
   "execution_count": null,
   "metadata": {},
   "outputs": [],
   "source": []
  }
 ],
 "metadata": {
  "kernelspec": {
   "display_name": "Python 3",
   "language": "python",
   "name": "python3"
  },
  "language_info": {
   "codemirror_mode": {
    "name": "ipython",
    "version": 3
   },
   "file_extension": ".py",
   "mimetype": "text/x-python",
   "name": "python",
   "nbconvert_exporter": "python",
   "pygments_lexer": "ipython3",
   "version": "3.7.5"
  }
 },
 "nbformat": 4,
 "nbformat_minor": 4
}
