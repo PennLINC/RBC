{
 "cells": [
  {
   "cell_type": "markdown",
   "metadata": {},
   "source": [
    "# Post Upload: ASL Classification"
   ]
  },
  {
   "cell_type": "markdown",
   "metadata": {},
   "source": [
    "We need to add classifications to the ASL data\n",
    "\n",
    "`{ Modality : MR, Features: pCASL, Measurement: Perfusion }`"
   ]
  },
  {
   "cell_type": "code",
   "execution_count": 3,
   "metadata": {},
   "outputs": [],
   "source": [
    "import flywheel\n",
    "\n",
    "client = flywheel.Client()"
   ]
  },
  {
   "cell_type": "code",
   "execution_count": null,
   "metadata": {},
   "outputs": [],
   "source": [
    "proj = client.projects.find_first('label=RBC_PNC')\n",
    "\n",
    "sessions = client.get_project_sessions(proj.id)\n",
    "\n",
    "for sess in sessions:\n",
    "    print(sess.subject.label)\n",
    "    acquisitions = sess.acquisitions()\n",
    "    asl = [a for a in acquisitions if 'asl' in a.label]\n",
    "    \n",
    "    if not asl:\n",
    "        continue\n",
    "    else:\n",
    "        \n",
    "        for al in asl:\n",
    "            \n",
    "            client.get(al.id)\n",
    "            \n",
    "            print(al.label)\n",
    "            \n",
    "            for f in al.files:\n",
    "                print(f.name)\n",
    "                print(f.classification)\n",
    "                classification = { \n",
    "                    'Intent': ['Functional'],\n",
    "                    'Features': ['pCASL'],\n",
    "                    'Measurement': ['Perfusion']\n",
    "                }\n",
    "                \n",
    "                out = al.replace_file_classification(f.name, classification, modality='MR')\n",
    "                print(out)\n",
    "    print()"
   ]
  },
  {
   "cell_type": "code",
   "execution_count": null,
   "metadata": {},
   "outputs": [],
   "source": []
  }
 ],
 "metadata": {
  "kernelspec": {
   "display_name": "Python 3",
   "language": "python",
   "name": "python3"
  },
  "language_info": {
   "codemirror_mode": {
    "name": "ipython",
    "version": 3
   },
   "file_extension": ".py",
   "mimetype": "text/x-python",
   "name": "python",
   "nbconvert_exporter": "python",
   "pygments_lexer": "ipython3",
   "version": "3.7.5"
  }
 },
 "nbformat": 4,
 "nbformat_minor": 4
}
