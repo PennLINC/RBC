{
 "cells": [
  {
   "cell_type": "code",
   "execution_count": 1,
   "metadata": {},
   "outputs": [],
   "source": [
    "import pandas as pd\n",
    "import flywheel"
   ]
  },
  {
   "cell_type": "code",
   "execution_count": 42,
   "metadata": {},
   "outputs": [
    {
     "name": "stdout",
     "output_type": "stream",
     "text": [
      "200610-00:36:13,813 nipype.utils INFO:\n",
      "\t Running nipype version 1.4.0 (latest: 1.5.0)\n"
     ]
    },
    {
     "name": "stderr",
     "output_type": "stream",
     "text": [
      "/storage/ttapera/fw-heudiconv/fw_heudiconv/backend_funcs/query.py:4: UserWarning: The DICOM readers are highly experimental, unstable, and only work for Siemens time-series at the moment\n",
      "Please use with caution.  We would be grateful for your help in improving them\n",
      "  from nibabel.nicom.dicomwrappers import wrapper_from_data\n",
      "INFO:nipype.utils:Running nipype version 1.4.0 (latest: 1.5.0)\n"
     ]
    }
   ],
   "source": [
    "from fw_heudiconv.cli.export import get_nested"
   ]
  },
  {
   "cell_type": "code",
   "execution_count": 17,
   "metadata": {},
   "outputs": [
    {
     "name": "stderr",
     "output_type": "stream",
     "text": [
      "/home/ttapera/miniconda3/envs/flywheel/lib/python3.7/site-packages/flywheel/flywheel.py:6186: UserWarning: Client version 12.0.0 does not match server version 11.3.4. Please update your client version!\n",
      "  warnings.warn('Client version {} does not match server version {}. Please update your client version!'.format(SDK_VERSION, release_version))\n",
      "WARNING:Flywheel:Use \"pip install flywheel-sdk~=11.3.4\" to install a compatible version for this server\n"
     ]
    }
   ],
   "source": [
    "client = flywheel.Client()\n",
    "\n",
    "proj = client.projects.find_first('label=\"PNC_CS_810336\"')\n",
    "subjects = proj.subjects()"
   ]
  },
  {
   "cell_type": "code",
   "execution_count": 7,
   "metadata": {},
   "outputs": [],
   "source": [
    "complete = pd.read_csv('/storage/ttapera/RBC/data/completed.txt')"
   ]
  },
  {
   "cell_type": "code",
   "execution_count": 9,
   "metadata": {},
   "outputs": [
    {
     "data": {
      "text/html": [
       "<div>\n",
       "<style scoped>\n",
       "    .dataframe tbody tr th:only-of-type {\n",
       "        vertical-align: middle;\n",
       "    }\n",
       "\n",
       "    .dataframe tbody tr th {\n",
       "        vertical-align: top;\n",
       "    }\n",
       "\n",
       "    .dataframe thead th {\n",
       "        text-align: right;\n",
       "    }\n",
       "</style>\n",
       "<table border=\"1\" class=\"dataframe\">\n",
       "  <thead>\n",
       "    <tr style=\"text-align: right;\">\n",
       "      <th></th>\n",
       "      <th>subject</th>\n",
       "      <th>download_ok</th>\n",
       "      <th>check_ok</th>\n",
       "      <th>date</th>\n",
       "    </tr>\n",
       "  </thead>\n",
       "  <tbody>\n",
       "    <tr>\n",
       "      <th>0</th>\n",
       "      <td>1654508502</td>\n",
       "      <td>0</td>\n",
       "      <td>0</td>\n",
       "      <td>Fri May 29 17:26:05 EDT 2020</td>\n",
       "    </tr>\n",
       "    <tr>\n",
       "      <th>1</th>\n",
       "      <td>1344101127</td>\n",
       "      <td>0</td>\n",
       "      <td>0</td>\n",
       "      <td>Fri May 29 17:26:12 EDT 2020</td>\n",
       "    </tr>\n",
       "    <tr>\n",
       "      <th>2</th>\n",
       "      <td>1818459775</td>\n",
       "      <td>0</td>\n",
       "      <td>0</td>\n",
       "      <td>Fri May 29 17:26:16 EDT 2020</td>\n",
       "    </tr>\n",
       "    <tr>\n",
       "      <th>3</th>\n",
       "      <td>2748427955</td>\n",
       "      <td>0</td>\n",
       "      <td>0</td>\n",
       "      <td>Fri May 29 17:26:45 EDT 2020</td>\n",
       "    </tr>\n",
       "    <tr>\n",
       "      <th>4</th>\n",
       "      <td>278814796</td>\n",
       "      <td>0</td>\n",
       "      <td>0</td>\n",
       "      <td>Fri May 29 17:32:43 EDT 2020</td>\n",
       "    </tr>\n",
       "    <tr>\n",
       "      <th>...</th>\n",
       "      <td>...</td>\n",
       "      <td>...</td>\n",
       "      <td>...</td>\n",
       "      <td>...</td>\n",
       "    </tr>\n",
       "    <tr>\n",
       "      <th>2000</th>\n",
       "      <td>3810009389</td>\n",
       "      <td>0</td>\n",
       "      <td>0</td>\n",
       "      <td>Wed Jun  3 16:38:37 EDT 2020</td>\n",
       "    </tr>\n",
       "    <tr>\n",
       "      <th>2001</th>\n",
       "      <td>1919055552</td>\n",
       "      <td>0</td>\n",
       "      <td>0</td>\n",
       "      <td>Wed Jun  3 16:38:37 EDT 2020</td>\n",
       "    </tr>\n",
       "    <tr>\n",
       "      <th>2002</th>\n",
       "      <td>3671045126</td>\n",
       "      <td>0</td>\n",
       "      <td>0</td>\n",
       "      <td>Wed Jun  3 16:40:37 EDT 2020</td>\n",
       "    </tr>\n",
       "    <tr>\n",
       "      <th>2003</th>\n",
       "      <td>1762102677</td>\n",
       "      <td>1</td>\n",
       "      <td>0</td>\n",
       "      <td>Wed Jun  3 21:14:14 EDT 2020</td>\n",
       "    </tr>\n",
       "    <tr>\n",
       "      <th>2004</th>\n",
       "      <td>676758900</td>\n",
       "      <td>1</td>\n",
       "      <td>0</td>\n",
       "      <td>Wed Jun  3 21:15:52 EDT 2020</td>\n",
       "    </tr>\n",
       "  </tbody>\n",
       "</table>\n",
       "<p>1601 rows × 4 columns</p>\n",
       "</div>"
      ],
      "text/plain": [
       "         subject  download_ok  check_ok                          date\n",
       "0     1654508502            0         0  Fri May 29 17:26:05 EDT 2020\n",
       "1     1344101127            0         0  Fri May 29 17:26:12 EDT 2020\n",
       "2     1818459775            0         0  Fri May 29 17:26:16 EDT 2020\n",
       "3     2748427955            0         0  Fri May 29 17:26:45 EDT 2020\n",
       "4      278814796            0         0  Fri May 29 17:32:43 EDT 2020\n",
       "...          ...          ...       ...                           ...\n",
       "2000  3810009389            0         0  Wed Jun  3 16:38:37 EDT 2020\n",
       "2001  1919055552            0         0  Wed Jun  3 16:38:37 EDT 2020\n",
       "2002  3671045126            0         0  Wed Jun  3 16:40:37 EDT 2020\n",
       "2003  1762102677            1         0  Wed Jun  3 21:14:14 EDT 2020\n",
       "2004   676758900            1         0  Wed Jun  3 21:15:52 EDT 2020\n",
       "\n",
       "[1601 rows x 4 columns]"
      ]
     },
     "execution_count": 9,
     "metadata": {},
     "output_type": "execute_result"
    }
   ],
   "source": [
    "complete = complete.drop_duplicates(subset=['subject'])\n",
    "complete"
   ]
  },
  {
   "cell_type": "markdown",
   "metadata": {},
   "source": [
    "Which subjects did not have a full download?"
   ]
  },
  {
   "cell_type": "code",
   "execution_count": 10,
   "metadata": {},
   "outputs": [],
   "source": [
    "bad_download = complete[complete['download_ok'] == 1]"
   ]
  },
  {
   "cell_type": "code",
   "execution_count": 11,
   "metadata": {},
   "outputs": [
    {
     "data": {
      "text/html": [
       "<div>\n",
       "<style scoped>\n",
       "    .dataframe tbody tr th:only-of-type {\n",
       "        vertical-align: middle;\n",
       "    }\n",
       "\n",
       "    .dataframe tbody tr th {\n",
       "        vertical-align: top;\n",
       "    }\n",
       "\n",
       "    .dataframe thead th {\n",
       "        text-align: right;\n",
       "    }\n",
       "</style>\n",
       "<table border=\"1\" class=\"dataframe\">\n",
       "  <thead>\n",
       "    <tr style=\"text-align: right;\">\n",
       "      <th></th>\n",
       "      <th>subject</th>\n",
       "      <th>download_ok</th>\n",
       "      <th>check_ok</th>\n",
       "      <th>date</th>\n",
       "    </tr>\n",
       "  </thead>\n",
       "  <tbody>\n",
       "    <tr>\n",
       "      <th>5</th>\n",
       "      <td>1867827374</td>\n",
       "      <td>1</td>\n",
       "      <td>0</td>\n",
       "      <td>Fri May 29 17:33:23 EDT 2020</td>\n",
       "    </tr>\n",
       "    <tr>\n",
       "      <th>28</th>\n",
       "      <td>1604003015</td>\n",
       "      <td>1</td>\n",
       "      <td>0</td>\n",
       "      <td>Fri May 29 17:59:21 EDT 2020</td>\n",
       "    </tr>\n",
       "    <tr>\n",
       "      <th>33</th>\n",
       "      <td>2861717830</td>\n",
       "      <td>1</td>\n",
       "      <td>0</td>\n",
       "      <td>Fri May 29 18:06:24 EDT 2020</td>\n",
       "    </tr>\n",
       "    <tr>\n",
       "      <th>39</th>\n",
       "      <td>1103118018</td>\n",
       "      <td>1</td>\n",
       "      <td>0</td>\n",
       "      <td>Fri May 29 18:16:52 EDT 2020</td>\n",
       "    </tr>\n",
       "    <tr>\n",
       "      <th>40</th>\n",
       "      <td>2441231201</td>\n",
       "      <td>1</td>\n",
       "      <td>0</td>\n",
       "      <td>Fri May 29 18:17:00 EDT 2020</td>\n",
       "    </tr>\n",
       "    <tr>\n",
       "      <th>...</th>\n",
       "      <td>...</td>\n",
       "      <td>...</td>\n",
       "      <td>...</td>\n",
       "      <td>...</td>\n",
       "    </tr>\n",
       "    <tr>\n",
       "      <th>1991</th>\n",
       "      <td>2038321583</td>\n",
       "      <td>1</td>\n",
       "      <td>0</td>\n",
       "      <td>Wed Jun  3 16:30:55 EDT 2020</td>\n",
       "    </tr>\n",
       "    <tr>\n",
       "      <th>1993</th>\n",
       "      <td>1012530688</td>\n",
       "      <td>1</td>\n",
       "      <td>1</td>\n",
       "      <td>Wed Jun  3 16:31:41 EDT 2020</td>\n",
       "    </tr>\n",
       "    <tr>\n",
       "      <th>1997</th>\n",
       "      <td>1939119029</td>\n",
       "      <td>1</td>\n",
       "      <td>0</td>\n",
       "      <td>Wed Jun  3 16:36:05 EDT 2020</td>\n",
       "    </tr>\n",
       "    <tr>\n",
       "      <th>2003</th>\n",
       "      <td>1762102677</td>\n",
       "      <td>1</td>\n",
       "      <td>0</td>\n",
       "      <td>Wed Jun  3 21:14:14 EDT 2020</td>\n",
       "    </tr>\n",
       "    <tr>\n",
       "      <th>2004</th>\n",
       "      <td>676758900</td>\n",
       "      <td>1</td>\n",
       "      <td>0</td>\n",
       "      <td>Wed Jun  3 21:15:52 EDT 2020</td>\n",
       "    </tr>\n",
       "  </tbody>\n",
       "</table>\n",
       "<p>262 rows × 4 columns</p>\n",
       "</div>"
      ],
      "text/plain": [
       "         subject  download_ok  check_ok                          date\n",
       "5     1867827374            1         0  Fri May 29 17:33:23 EDT 2020\n",
       "28    1604003015            1         0  Fri May 29 17:59:21 EDT 2020\n",
       "33    2861717830            1         0  Fri May 29 18:06:24 EDT 2020\n",
       "39    1103118018            1         0  Fri May 29 18:16:52 EDT 2020\n",
       "40    2441231201            1         0  Fri May 29 18:17:00 EDT 2020\n",
       "...          ...          ...       ...                           ...\n",
       "1991  2038321583            1         0  Wed Jun  3 16:30:55 EDT 2020\n",
       "1993  1012530688            1         1  Wed Jun  3 16:31:41 EDT 2020\n",
       "1997  1939119029            1         0  Wed Jun  3 16:36:05 EDT 2020\n",
       "2003  1762102677            1         0  Wed Jun  3 21:14:14 EDT 2020\n",
       "2004   676758900            1         0  Wed Jun  3 21:15:52 EDT 2020\n",
       "\n",
       "[262 rows x 4 columns]"
      ]
     },
     "execution_count": 11,
     "metadata": {},
     "output_type": "execute_result"
    }
   ],
   "source": [
    "bad_download"
   ]
  },
  {
   "cell_type": "code",
   "execution_count": 6,
   "metadata": {},
   "outputs": [],
   "source": [
    "ids = pd.read_csv('/storage/ttapera/RBC/data/bblids_3.csv', header=None, names=['bblid', 'hash', 'full_id', 'process'])"
   ]
  },
  {
   "cell_type": "code",
   "execution_count": 12,
   "metadata": {},
   "outputs": [
    {
     "data": {
      "text/html": [
       "<div>\n",
       "<style scoped>\n",
       "    .dataframe tbody tr th:only-of-type {\n",
       "        vertical-align: middle;\n",
       "    }\n",
       "\n",
       "    .dataframe tbody tr th {\n",
       "        vertical-align: top;\n",
       "    }\n",
       "\n",
       "    .dataframe thead th {\n",
       "        text-align: right;\n",
       "    }\n",
       "</style>\n",
       "<table border=\"1\" class=\"dataframe\">\n",
       "  <thead>\n",
       "    <tr style=\"text-align: right;\">\n",
       "      <th></th>\n",
       "      <th>bblid</th>\n",
       "      <th>hash</th>\n",
       "      <th>full_id</th>\n",
       "      <th>process</th>\n",
       "    </tr>\n",
       "  </thead>\n",
       "  <tbody>\n",
       "    <tr>\n",
       "      <th>0</th>\n",
       "      <td>80010</td>\n",
       "      <td>1832999514</td>\n",
       "      <td>sub-1832999514</td>\n",
       "      <td>True</td>\n",
       "    </tr>\n",
       "    <tr>\n",
       "      <th>1</th>\n",
       "      <td>80179</td>\n",
       "      <td>2216595430</td>\n",
       "      <td>sub-2216595430</td>\n",
       "      <td>True</td>\n",
       "    </tr>\n",
       "    <tr>\n",
       "      <th>2</th>\n",
       "      <td>80199</td>\n",
       "      <td>1867827374</td>\n",
       "      <td>sub-1867827374</td>\n",
       "      <td>True</td>\n",
       "    </tr>\n",
       "    <tr>\n",
       "      <th>3</th>\n",
       "      <td>80208</td>\n",
       "      <td>278814796</td>\n",
       "      <td>sub-278814796</td>\n",
       "      <td>True</td>\n",
       "    </tr>\n",
       "    <tr>\n",
       "      <th>4</th>\n",
       "      <td>80249</td>\n",
       "      <td>3103368139</td>\n",
       "      <td>sub-3103368139</td>\n",
       "      <td>True</td>\n",
       "    </tr>\n",
       "    <tr>\n",
       "      <th>...</th>\n",
       "      <td>...</td>\n",
       "      <td>...</td>\n",
       "      <td>...</td>\n",
       "      <td>...</td>\n",
       "    </tr>\n",
       "    <tr>\n",
       "      <th>1596</th>\n",
       "      <td>139490</td>\n",
       "      <td>1012530688</td>\n",
       "      <td>sub-1012530688</td>\n",
       "      <td>True</td>\n",
       "    </tr>\n",
       "    <tr>\n",
       "      <th>1597</th>\n",
       "      <td>139496</td>\n",
       "      <td>3726299659</td>\n",
       "      <td>sub-3726299659</td>\n",
       "      <td>True</td>\n",
       "    </tr>\n",
       "    <tr>\n",
       "      <th>1598</th>\n",
       "      <td>139532</td>\n",
       "      <td>1919055552</td>\n",
       "      <td>sub-1919055552</td>\n",
       "      <td>True</td>\n",
       "    </tr>\n",
       "    <tr>\n",
       "      <th>1599</th>\n",
       "      <td>139538</td>\n",
       "      <td>3810009389</td>\n",
       "      <td>sub-3810009389</td>\n",
       "      <td>True</td>\n",
       "    </tr>\n",
       "    <tr>\n",
       "      <th>1600</th>\n",
       "      <td>139553</td>\n",
       "      <td>3671045126</td>\n",
       "      <td>sub-3671045126</td>\n",
       "      <td>True</td>\n",
       "    </tr>\n",
       "  </tbody>\n",
       "</table>\n",
       "<p>1601 rows × 4 columns</p>\n",
       "</div>"
      ],
      "text/plain": [
       "       bblid        hash         full_id  process\n",
       "0      80010  1832999514  sub-1832999514     True\n",
       "1      80179  2216595430  sub-2216595430     True\n",
       "2      80199  1867827374  sub-1867827374     True\n",
       "3      80208   278814796   sub-278814796     True\n",
       "4      80249  3103368139  sub-3103368139     True\n",
       "...      ...         ...             ...      ...\n",
       "1596  139490  1012530688  sub-1012530688     True\n",
       "1597  139496  3726299659  sub-3726299659     True\n",
       "1598  139532  1919055552  sub-1919055552     True\n",
       "1599  139538  3810009389  sub-3810009389     True\n",
       "1600  139553  3671045126  sub-3671045126     True\n",
       "\n",
       "[1601 rows x 4 columns]"
      ]
     },
     "execution_count": 12,
     "metadata": {},
     "output_type": "execute_result"
    }
   ],
   "source": [
    "ids"
   ]
  },
  {
   "cell_type": "code",
   "execution_count": 15,
   "metadata": {},
   "outputs": [],
   "source": [
    "bad_download2 = bad_download.merge(ids[['bblid', 'hash']], left_on='subject', right_on='hash')"
   ]
  },
  {
   "cell_type": "code",
   "execution_count": 16,
   "metadata": {},
   "outputs": [
    {
     "data": {
      "text/html": [
       "<div>\n",
       "<style scoped>\n",
       "    .dataframe tbody tr th:only-of-type {\n",
       "        vertical-align: middle;\n",
       "    }\n",
       "\n",
       "    .dataframe tbody tr th {\n",
       "        vertical-align: top;\n",
       "    }\n",
       "\n",
       "    .dataframe thead th {\n",
       "        text-align: right;\n",
       "    }\n",
       "</style>\n",
       "<table border=\"1\" class=\"dataframe\">\n",
       "  <thead>\n",
       "    <tr style=\"text-align: right;\">\n",
       "      <th></th>\n",
       "      <th>subject</th>\n",
       "      <th>download_ok</th>\n",
       "      <th>check_ok</th>\n",
       "      <th>date</th>\n",
       "      <th>bblid</th>\n",
       "      <th>hash</th>\n",
       "    </tr>\n",
       "  </thead>\n",
       "  <tbody>\n",
       "    <tr>\n",
       "      <th>0</th>\n",
       "      <td>1867827374</td>\n",
       "      <td>1</td>\n",
       "      <td>0</td>\n",
       "      <td>Fri May 29 17:33:23 EDT 2020</td>\n",
       "      <td>80199</td>\n",
       "      <td>1867827374</td>\n",
       "    </tr>\n",
       "    <tr>\n",
       "      <th>1</th>\n",
       "      <td>1604003015</td>\n",
       "      <td>1</td>\n",
       "      <td>0</td>\n",
       "      <td>Fri May 29 17:59:21 EDT 2020</td>\n",
       "      <td>81231</td>\n",
       "      <td>1604003015</td>\n",
       "    </tr>\n",
       "    <tr>\n",
       "      <th>2</th>\n",
       "      <td>2861717830</td>\n",
       "      <td>1</td>\n",
       "      <td>0</td>\n",
       "      <td>Fri May 29 18:06:24 EDT 2020</td>\n",
       "      <td>81353</td>\n",
       "      <td>2861717830</td>\n",
       "    </tr>\n",
       "    <tr>\n",
       "      <th>3</th>\n",
       "      <td>1103118018</td>\n",
       "      <td>1</td>\n",
       "      <td>0</td>\n",
       "      <td>Fri May 29 18:16:52 EDT 2020</td>\n",
       "      <td>81533</td>\n",
       "      <td>1103118018</td>\n",
       "    </tr>\n",
       "    <tr>\n",
       "      <th>4</th>\n",
       "      <td>2441231201</td>\n",
       "      <td>1</td>\n",
       "      <td>0</td>\n",
       "      <td>Fri May 29 18:17:00 EDT 2020</td>\n",
       "      <td>81604</td>\n",
       "      <td>2441231201</td>\n",
       "    </tr>\n",
       "    <tr>\n",
       "      <th>...</th>\n",
       "      <td>...</td>\n",
       "      <td>...</td>\n",
       "      <td>...</td>\n",
       "      <td>...</td>\n",
       "      <td>...</td>\n",
       "      <td>...</td>\n",
       "    </tr>\n",
       "    <tr>\n",
       "      <th>257</th>\n",
       "      <td>2038321583</td>\n",
       "      <td>1</td>\n",
       "      <td>0</td>\n",
       "      <td>Wed Jun  3 16:30:55 EDT 2020</td>\n",
       "      <td>139427</td>\n",
       "      <td>2038321583</td>\n",
       "    </tr>\n",
       "    <tr>\n",
       "      <th>258</th>\n",
       "      <td>1012530688</td>\n",
       "      <td>1</td>\n",
       "      <td>1</td>\n",
       "      <td>Wed Jun  3 16:31:41 EDT 2020</td>\n",
       "      <td>139490</td>\n",
       "      <td>1012530688</td>\n",
       "    </tr>\n",
       "    <tr>\n",
       "      <th>259</th>\n",
       "      <td>1939119029</td>\n",
       "      <td>1</td>\n",
       "      <td>0</td>\n",
       "      <td>Wed Jun  3 16:36:05 EDT 2020</td>\n",
       "      <td>139469</td>\n",
       "      <td>1939119029</td>\n",
       "    </tr>\n",
       "    <tr>\n",
       "      <th>260</th>\n",
       "      <td>1762102677</td>\n",
       "      <td>1</td>\n",
       "      <td>0</td>\n",
       "      <td>Wed Jun  3 21:14:14 EDT 2020</td>\n",
       "      <td>127611</td>\n",
       "      <td>1762102677</td>\n",
       "    </tr>\n",
       "    <tr>\n",
       "      <th>261</th>\n",
       "      <td>676758900</td>\n",
       "      <td>1</td>\n",
       "      <td>0</td>\n",
       "      <td>Wed Jun  3 21:15:52 EDT 2020</td>\n",
       "      <td>126146</td>\n",
       "      <td>676758900</td>\n",
       "    </tr>\n",
       "  </tbody>\n",
       "</table>\n",
       "<p>262 rows × 6 columns</p>\n",
       "</div>"
      ],
      "text/plain": [
       "        subject  download_ok  check_ok                          date   bblid  \\\n",
       "0    1867827374            1         0  Fri May 29 17:33:23 EDT 2020   80199   \n",
       "1    1604003015            1         0  Fri May 29 17:59:21 EDT 2020   81231   \n",
       "2    2861717830            1         0  Fri May 29 18:06:24 EDT 2020   81353   \n",
       "3    1103118018            1         0  Fri May 29 18:16:52 EDT 2020   81533   \n",
       "4    2441231201            1         0  Fri May 29 18:17:00 EDT 2020   81604   \n",
       "..          ...          ...       ...                           ...     ...   \n",
       "257  2038321583            1         0  Wed Jun  3 16:30:55 EDT 2020  139427   \n",
       "258  1012530688            1         1  Wed Jun  3 16:31:41 EDT 2020  139490   \n",
       "259  1939119029            1         0  Wed Jun  3 16:36:05 EDT 2020  139469   \n",
       "260  1762102677            1         0  Wed Jun  3 21:14:14 EDT 2020  127611   \n",
       "261   676758900            1         0  Wed Jun  3 21:15:52 EDT 2020  126146   \n",
       "\n",
       "           hash  \n",
       "0    1867827374  \n",
       "1    1604003015  \n",
       "2    2861717830  \n",
       "3    1103118018  \n",
       "4    2441231201  \n",
       "..          ...  \n",
       "257  2038321583  \n",
       "258  1012530688  \n",
       "259  1939119029  \n",
       "260  1762102677  \n",
       "261   676758900  \n",
       "\n",
       "[262 rows x 6 columns]"
      ]
     },
     "execution_count": 16,
     "metadata": {},
     "output_type": "execute_result"
    }
   ],
   "source": [
    "bad_download2"
   ]
  },
  {
   "cell_type": "code",
   "execution_count": 18,
   "metadata": {},
   "outputs": [],
   "source": [
    "row = bad_download2.iloc[0,]"
   ]
  },
  {
   "cell_type": "code",
   "execution_count": 19,
   "metadata": {},
   "outputs": [
    {
     "data": {
      "text/plain": [
       "subject                          1867827374\n",
       "download_ok                               1\n",
       "check_ok                                  0\n",
       "date           Fri May 29 17:33:23 EDT 2020\n",
       "bblid                                 80199\n",
       "hash                             1867827374\n",
       "Name: 0, dtype: object"
      ]
     },
     "execution_count": 19,
     "metadata": {},
     "output_type": "execute_result"
    }
   ],
   "source": [
    "row"
   ]
  },
  {
   "cell_type": "code",
   "execution_count": null,
   "metadata": {},
   "outputs": [],
   "source": []
  },
  {
   "cell_type": "code",
   "execution_count": 35,
   "metadata": {},
   "outputs": [],
   "source": [
    "subject = [x for x in subjects if x.label == str(row['bblid'])][0]\n",
    "session = subject.sessions()[0]\n"
   ]
  },
  {
   "cell_type": "code",
   "execution_count": 56,
   "metadata": {},
   "outputs": [
    {
     "name": "stdout",
     "output_type": "stream",
     "text": [
      "{'fmap', 'asl', 'dwi', 'anat', 'func', None}\n"
     ]
    }
   ],
   "source": [
    "dtypes = []\n",
    "acquisitions = session.acquisitions()\n",
    "\n",
    "for acq in acquisitions:\n",
    "\n",
    "    for f in acq.files:\n",
    "        if f.type != 'nifti':\n",
    "            continue\n",
    "        dtypes.append(get_nested(f, 'info', 'BIDS', 'Folder'))\n",
    "    \n",
    "print(set(dtypes))"
   ]
  },
  {
   "cell_type": "code",
   "execution_count": 58,
   "metadata": {},
   "outputs": [
    {
     "data": {
      "text/plain": [
       "True"
      ]
     },
     "execution_count": 58,
     "metadata": {},
     "output_type": "execute_result"
    }
   ],
   "source": [
    "all([x in dtypes for x in ['fmap', 'func', 'anat']])"
   ]
  },
  {
   "cell_type": "code",
   "execution_count": 59,
   "metadata": {},
   "outputs": [],
   "source": [
    "def check_for_completeness(row, checks):\n",
    "    \n",
    "    subject = [x for x in subjects if x.label == str(row['bblid'])][0]\n",
    "    session = subject.sessions()[0]\n",
    "    dtypes = []\n",
    "    acquisitions = session.acquisitions()\n",
    "    for acq in acquisitions:\n",
    "\n",
    "        for f in acq.files:\n",
    "            if f.type != 'nifti':\n",
    "                continue\n",
    "            dtypes.append(get_nested(f, 'info', 'BIDS', 'Folder'))\n",
    "    \n",
    "    return [x in dtypes for x in checks]\n"
   ]
  },
  {
   "cell_type": "code",
   "execution_count": 61,
   "metadata": {},
   "outputs": [
    {
     "data": {
      "text/plain": [
       "[True, True, True, True]"
      ]
     },
     "execution_count": 61,
     "metadata": {},
     "output_type": "execute_result"
    }
   ],
   "source": [
    "check_for_completeness(row, ['fmap', 'func', 'anat', 'dwi'])"
   ]
  },
  {
   "cell_type": "code",
   "execution_count": null,
   "metadata": {},
   "outputs": [],
   "source": []
  }
 ],
 "metadata": {
  "kernelspec": {
   "display_name": "Python 3",
   "language": "python",
   "name": "python3"
  },
  "language_info": {
   "codemirror_mode": {
    "name": "ipython",
    "version": 3
   },
   "file_extension": ".py",
   "mimetype": "text/x-python",
   "name": "python",
   "nbconvert_exporter": "python",
   "pygments_lexer": "ipython3",
   "version": "3.7.5"
  }
 },
 "nbformat": 4,
 "nbformat_minor": 2
}
