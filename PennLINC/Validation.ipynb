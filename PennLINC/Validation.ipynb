{
 "cells": [
  {
   "cell_type": "markdown",
   "metadata": {},
   "source": [
    "Setting up the validator:"
   ]
  },
  {
   "cell_type": "code",
   "execution_count": 1,
   "metadata": {},
   "outputs": [],
   "source": [
    "import flywheel\n",
    "import os\n",
    "from pathlib import Path\n",
    "\n",
    "client = flywheel.Client()"
   ]
  },
  {
   "cell_type": "code",
   "execution_count": 2,
   "metadata": {},
   "outputs": [],
   "source": [
    "nki = client.projects.find_first(\"label=RBC_NKI\")\n",
    "pnc = client.projects.find_first(\"label=RBC_PNC\")\n",
    "hbn = client.projects.find_first(\"label=RBC_HBN\")"
   ]
  },
  {
   "cell_type": "code",
   "execution_count": 3,
   "metadata": {},
   "outputs": [],
   "source": [
    "nki_subjects = [x.label for x in nki.subjects()]\n",
    "pnc_subjects = [x.label for x in pnc.subjects()]\n",
    "hbn_subjects = [x.label for x in hbn.subjects()]"
   ]
  },
  {
   "cell_type": "code",
   "execution_count": 32,
   "metadata": {},
   "outputs": [],
   "source": [
    "import subprocess\n",
    "import multiprocessing as mp\n",
    "\n",
    "\n",
    "num = 12  # set to the number of workers you want (it defaults to the cpu count of your machine)"
   ]
  },
  {
   "cell_type": "code",
   "execution_count": 45,
   "metadata": {},
   "outputs": [],
   "source": [
    "def validate(project, subject, test=True):\n",
    "    path = '/storage/ttapera/RBC/data/validation/{}/{}'.format(project, subject)\n",
    "    call = 'fw-heudiconv-validate --flywheel --project RBC_{} --subject {} --directory {} --tabulate {}'.format(project, subject, path, path)\n",
    "    if test:\n",
    "        call = 'echo ' + call\n",
    "    proc = subprocess.check_call(call,shell=True, stdout=subprocess.PIPE)\n",
    "    return proc\n",
    "\n",
    "    "
   ]
  },
  {
   "cell_type": "code",
   "execution_count": 48,
   "metadata": {},
   "outputs": [],
   "source": [
    "import multiprocessing as mp\n",
    "pool = mp.Pool(processes=12)"
   ]
  },
  {
   "cell_type": "code",
   "execution_count": 49,
   "metadata": {},
   "outputs": [],
   "source": [
    "for subject in nki_subjects:\n",
    "    pool.apply_async(validate, ('NKI',subject,False))\n",
    "    \n",
    "pool.close()\n",
    "pool.join()"
   ]
  },
  {
   "cell_type": "code",
   "execution_count": 57,
   "metadata": {},
   "outputs": [],
   "source": [
    "pool = mp.Pool(processes=16)"
   ]
  },
  {
   "cell_type": "code",
   "execution_count": null,
   "metadata": {},
   "outputs": [],
   "source": [
    "for subject in pnc_subjects:\n",
    "    pool.apply_async(validate, ('PNC',subject,False))\n",
    "    \n",
    "pool.close()\n",
    "pool.join()"
   ]
  },
  {
   "cell_type": "code",
   "execution_count": null,
   "metadata": {},
   "outputs": [],
   "source": [
    "pool = mp.Pool(processes=16)"
   ]
  },
  {
   "cell_type": "code",
   "execution_count": null,
   "metadata": {},
   "outputs": [],
   "source": [
    "for subject in hbn_subjects:\n",
    "    pool.apply_async(validate, ('HBN',subject,False))\n",
    "    \n",
    "pool.close()\n",
    "pool.join()"
   ]
  }
 ],
 "metadata": {
  "kernelspec": {
   "display_name": "Python 3",
   "language": "python",
   "name": "python3"
  },
  "language_info": {
   "codemirror_mode": {
    "name": "ipython",
    "version": 3
   },
   "file_extension": ".py",
   "mimetype": "text/x-python",
   "name": "python",
   "nbconvert_exporter": "python",
   "pygments_lexer": "ipython3",
   "version": "3.7.5"
  }
 },
 "nbformat": 4,
 "nbformat_minor": 2
}
